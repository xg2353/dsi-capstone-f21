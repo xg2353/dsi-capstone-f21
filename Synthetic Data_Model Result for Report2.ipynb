{
 "cells": [
  {
   "cell_type": "code",
   "execution_count": 2,
   "id": "cbc5230c",
   "metadata": {},
   "outputs": [],
   "source": [
    "import numpy as np\n",
    "import pandas as pd\n",
    "import statsmodels.api as sm\n",
    "import scipy.stats as stats\n",
    "import statsmodels.formula.api as smf\n",
    "from scipy.stats import bernoulli\n",
    "from scipy.stats import truncnorm"
   ]
  },
  {
   "cell_type": "code",
   "execution_count": 5,
   "id": "1f3907e4",
   "metadata": {},
   "outputs": [],
   "source": [
    "import math"
   ]
  },
  {
   "cell_type": "code",
   "execution_count": 31,
   "id": "0c4ff097",
   "metadata": {},
   "outputs": [],
   "source": [
    "def DGP(intervene_A=None):\n",
    "    p = 0.6     # Above, this was defined as 0.5. In paper, it's 0.6\n",
    "    n = 10000\n",
    "\n",
    "    # A (gender)\n",
    "    if intervene_A:\n",
    "        A2 = np.ones(n)\n",
    "    else:\n",
    "        A2 = U_A = bernoulli.rvs(p=p, size=n)\n",
    "\n",
    "\n",
    "    # Q (qualifications)\n",
    "    U_Q = np.random.normal(2, 5, n)\n",
    "    Q2 = np.floor(U_Q)\n",
    "\n",
    "\n",
    "    # D (number of children)\n",
    "    lower_d, upper_d = 0.1, 3\n",
    "    mu_d, sigma_d = 2, 1\n",
    "    X_d = stats.truncnorm((lower_d - mu_d) / sigma_d, (upper_d - mu_d) / sigma_d, loc=mu_d, scale=sigma_d)\n",
    "    U_D = X_d.rvs(n)\n",
    "    D2 = A2 + np.floor(0.5 * Q2 * U_D)\n",
    "\n",
    "\n",
    "    # M (physical strength)\n",
    "    lower_m, upper_m = 0.1, 3\n",
    "    mu_m, sigma_m = 3, 2\n",
    "    X_m = stats.truncnorm((lower_m - mu_m) / sigma_m, (upper_m - mu_m) / sigma_m, loc=mu_m, scale=sigma_m)\n",
    "    U_M = X_m.rvs(n)\n",
    "    M2 = 3*A2 + (0.4 * Q2 * U_M)\n",
    "\n",
    "\n",
    "    sigmoid = lambda x: 1/(1+ math.exp(-x))\n",
    "\n",
    "    Y2 = np.zeros(n)\n",
    "    for i in range(n):\n",
    "        Y2[i] = sigmoid(-10+5*A2[i]+Q2[i]+D2[i]+M2[i]) >= 0.5\n",
    "\n",
    "\n",
    "    df = pd.DataFrame({'A': A2, 'D': D2, 'M': M2 ,'Q': Q2,'Y':Y2})\n",
    "    return df"
   ]
  },
  {
   "cell_type": "code",
   "execution_count": 32,
   "id": "04d29b66",
   "metadata": {},
   "outputs": [],
   "source": [
    "without_intervention = DGP(intervene_A= False)\n",
    "intervention = DGP(intervene_A= True)"
   ]
  },
  {
   "cell_type": "code",
   "execution_count": null,
   "id": "20c2bc6f",
   "metadata": {},
   "outputs": [],
   "source": [
    "#1. why did qualification change?\n",
    "#2. for the counterfactual prediction, should I just use the q from without intervention dataset?\n",
    "#3. Evaluating on fairness metric on test dataset?"
   ]
  },
  {
   "cell_type": "code",
   "execution_count": 34,
   "id": "661f1a3a",
   "metadata": {},
   "outputs": [
    {
     "data": {
      "text/html": [
       "<div>\n",
       "<style scoped>\n",
       "    .dataframe tbody tr th:only-of-type {\n",
       "        vertical-align: middle;\n",
       "    }\n",
       "\n",
       "    .dataframe tbody tr th {\n",
       "        vertical-align: top;\n",
       "    }\n",
       "\n",
       "    .dataframe thead th {\n",
       "        text-align: right;\n",
       "    }\n",
       "</style>\n",
       "<table border=\"1\" class=\"dataframe\">\n",
       "  <thead>\n",
       "    <tr style=\"text-align: right;\">\n",
       "      <th></th>\n",
       "      <th>A</th>\n",
       "      <th>D</th>\n",
       "      <th>M</th>\n",
       "      <th>Q</th>\n",
       "      <th>Y</th>\n",
       "      <th>bi_Q</th>\n",
       "    </tr>\n",
       "  </thead>\n",
       "  <tbody>\n",
       "    <tr>\n",
       "      <th>0</th>\n",
       "      <td>1</td>\n",
       "      <td>1.0</td>\n",
       "      <td>3.256999</td>\n",
       "      <td>1.0</td>\n",
       "      <td>1.0</td>\n",
       "      <td>1</td>\n",
       "    </tr>\n",
       "    <tr>\n",
       "      <th>1</th>\n",
       "      <td>1</td>\n",
       "      <td>1.0</td>\n",
       "      <td>3.369268</td>\n",
       "      <td>1.0</td>\n",
       "      <td>1.0</td>\n",
       "      <td>1</td>\n",
       "    </tr>\n",
       "    <tr>\n",
       "      <th>2</th>\n",
       "      <td>1</td>\n",
       "      <td>5.0</td>\n",
       "      <td>6.542736</td>\n",
       "      <td>5.0</td>\n",
       "      <td>1.0</td>\n",
       "      <td>-1</td>\n",
       "    </tr>\n",
       "    <tr>\n",
       "      <th>3</th>\n",
       "      <td>0</td>\n",
       "      <td>10.0</td>\n",
       "      <td>6.208922</td>\n",
       "      <td>8.0</td>\n",
       "      <td>1.0</td>\n",
       "      <td>-1</td>\n",
       "    </tr>\n",
       "    <tr>\n",
       "      <th>4</th>\n",
       "      <td>1</td>\n",
       "      <td>0.0</td>\n",
       "      <td>1.926975</td>\n",
       "      <td>-1.0</td>\n",
       "      <td>0.0</td>\n",
       "      <td>1</td>\n",
       "    </tr>\n",
       "  </tbody>\n",
       "</table>\n",
       "</div>"
      ],
      "text/plain": [
       "   A     D         M    Q    Y  bi_Q\n",
       "0  1   1.0  3.256999  1.0  1.0     1\n",
       "1  1   1.0  3.369268  1.0  1.0     1\n",
       "2  1   5.0  6.542736  5.0  1.0    -1\n",
       "3  0  10.0  6.208922  8.0  1.0    -1\n",
       "4  1   0.0  1.926975 -1.0  0.0     1"
      ]
     },
     "execution_count": 34,
     "metadata": {},
     "output_type": "execute_result"
    }
   ],
   "source": [
    "without_intervention.head()"
   ]
  },
  {
   "cell_type": "code",
   "execution_count": 35,
   "id": "123e9a93",
   "metadata": {},
   "outputs": [
    {
     "data": {
      "text/html": [
       "<div>\n",
       "<style scoped>\n",
       "    .dataframe tbody tr th:only-of-type {\n",
       "        vertical-align: middle;\n",
       "    }\n",
       "\n",
       "    .dataframe tbody tr th {\n",
       "        vertical-align: top;\n",
       "    }\n",
       "\n",
       "    .dataframe thead th {\n",
       "        text-align: right;\n",
       "    }\n",
       "</style>\n",
       "<table border=\"1\" class=\"dataframe\">\n",
       "  <thead>\n",
       "    <tr style=\"text-align: right;\">\n",
       "      <th></th>\n",
       "      <th>A</th>\n",
       "      <th>D</th>\n",
       "      <th>M</th>\n",
       "      <th>Q</th>\n",
       "      <th>Y</th>\n",
       "      <th>bi_Q</th>\n",
       "    </tr>\n",
       "  </thead>\n",
       "  <tbody>\n",
       "    <tr>\n",
       "      <th>0</th>\n",
       "      <td>1.0</td>\n",
       "      <td>1.0</td>\n",
       "      <td>5.277394</td>\n",
       "      <td>2.0</td>\n",
       "      <td>1.0</td>\n",
       "      <td>1</td>\n",
       "    </tr>\n",
       "    <tr>\n",
       "      <th>1</th>\n",
       "      <td>1.0</td>\n",
       "      <td>11.0</td>\n",
       "      <td>7.458967</td>\n",
       "      <td>9.0</td>\n",
       "      <td>1.0</td>\n",
       "      <td>-1</td>\n",
       "    </tr>\n",
       "    <tr>\n",
       "      <th>2</th>\n",
       "      <td>1.0</td>\n",
       "      <td>3.0</td>\n",
       "      <td>7.988663</td>\n",
       "      <td>5.0</td>\n",
       "      <td>1.0</td>\n",
       "      <td>-1</td>\n",
       "    </tr>\n",
       "    <tr>\n",
       "      <th>3</th>\n",
       "      <td>1.0</td>\n",
       "      <td>-7.0</td>\n",
       "      <td>-3.123909</td>\n",
       "      <td>-7.0</td>\n",
       "      <td>0.0</td>\n",
       "      <td>1</td>\n",
       "    </tr>\n",
       "    <tr>\n",
       "      <th>4</th>\n",
       "      <td>1.0</td>\n",
       "      <td>2.0</td>\n",
       "      <td>3.590503</td>\n",
       "      <td>1.0</td>\n",
       "      <td>1.0</td>\n",
       "      <td>1</td>\n",
       "    </tr>\n",
       "  </tbody>\n",
       "</table>\n",
       "</div>"
      ],
      "text/plain": [
       "     A     D         M    Q    Y  bi_Q\n",
       "0  1.0   1.0  5.277394  2.0  1.0     1\n",
       "1  1.0  11.0  7.458967  9.0  1.0    -1\n",
       "2  1.0   3.0  7.988663  5.0  1.0    -1\n",
       "3  1.0  -7.0 -3.123909 -7.0  0.0     1\n",
       "4  1.0   2.0  3.590503  1.0  1.0     1"
      ]
     },
     "execution_count": 35,
     "metadata": {},
     "output_type": "execute_result"
    }
   ],
   "source": [
    "intervention.head()"
   ]
  },
  {
   "cell_type": "code",
   "execution_count": 40,
   "id": "66b6f1ba",
   "metadata": {},
   "outputs": [
    {
     "data": {
      "text/html": [
       "<div>\n",
       "<style scoped>\n",
       "    .dataframe tbody tr th:only-of-type {\n",
       "        vertical-align: middle;\n",
       "    }\n",
       "\n",
       "    .dataframe tbody tr th {\n",
       "        vertical-align: top;\n",
       "    }\n",
       "\n",
       "    .dataframe thead th {\n",
       "        text-align: right;\n",
       "    }\n",
       "</style>\n",
       "<table border=\"1\" class=\"dataframe\">\n",
       "  <thead>\n",
       "    <tr style=\"text-align: right;\">\n",
       "      <th></th>\n",
       "      <th>A</th>\n",
       "      <th>D</th>\n",
       "      <th>M</th>\n",
       "      <th>Q</th>\n",
       "      <th>Y</th>\n",
       "    </tr>\n",
       "  </thead>\n",
       "  <tbody>\n",
       "    <tr>\n",
       "      <th>0</th>\n",
       "      <td>0</td>\n",
       "      <td>0.0</td>\n",
       "      <td>0.211016</td>\n",
       "      <td>1.0</td>\n",
       "      <td>0.0</td>\n",
       "    </tr>\n",
       "    <tr>\n",
       "      <th>1</th>\n",
       "      <td>0</td>\n",
       "      <td>0.0</td>\n",
       "      <td>1.051374</td>\n",
       "      <td>1.0</td>\n",
       "      <td>0.0</td>\n",
       "    </tr>\n",
       "    <tr>\n",
       "      <th>2</th>\n",
       "      <td>0</td>\n",
       "      <td>2.0</td>\n",
       "      <td>3.452420</td>\n",
       "      <td>5.0</td>\n",
       "      <td>1.0</td>\n",
       "    </tr>\n",
       "    <tr>\n",
       "      <th>3</th>\n",
       "      <td>1</td>\n",
       "      <td>12.0</td>\n",
       "      <td>6.083610</td>\n",
       "      <td>8.0</td>\n",
       "      <td>1.0</td>\n",
       "    </tr>\n",
       "    <tr>\n",
       "      <th>4</th>\n",
       "      <td>0</td>\n",
       "      <td>-2.0</td>\n",
       "      <td>-1.022882</td>\n",
       "      <td>-1.0</td>\n",
       "      <td>0.0</td>\n",
       "    </tr>\n",
       "  </tbody>\n",
       "</table>\n",
       "</div>"
      ],
      "text/plain": [
       "   A     D         M    Q    Y\n",
       "0  0   0.0  0.211016  1.0  0.0\n",
       "1  0   0.0  1.051374  1.0  0.0\n",
       "2  0   2.0  3.452420  5.0  1.0\n",
       "3  1  12.0  6.083610  8.0  1.0\n",
       "4  0  -2.0 -1.022882 -1.0  0.0"
      ]
     },
     "execution_count": 40,
     "metadata": {},
     "output_type": "execute_result"
    }
   ],
   "source": [
    "Counterfactual_df.head()  #generate myself by holding value of Q unchanged at individual level, and switched A 1->0, 0->1"
   ]
  },
  {
   "cell_type": "markdown",
   "id": "baa87bb2",
   "metadata": {},
   "source": [
    "# Generate Counterfactual Data"
   ]
  },
  {
   "cell_type": "code",
   "execution_count": 33,
   "id": "c31e7801",
   "metadata": {},
   "outputs": [],
   "source": [
    "without_intervention['bi_Q'] = np.where(without_intervention['Q'] <= np.quantile(without_intervention['Q'], 0.5), 1, -1)\n",
    "intervention['bi_Q'] = np.where(intervention['Q'] <= np.quantile(intervention['Q'], 0.5), 1, -1)\n",
    "#intervention['Q'] = without_intervention['Q']\n",
    "#intervention['bi_Q'] = without_intervention['bi_Q']\n"
   ]
  },
  {
   "cell_type": "code",
   "execution_count": 39,
   "id": "dcaaff09",
   "metadata": {},
   "outputs": [],
   "source": [
    "#counterfactual gender\n",
    "n = 10000\n",
    "A2 = 1 - without_intervention.A.values\n",
    "\n",
    "# Q (qualifications) - unchanged\n",
    "    #U_Q = np.random.normal(2, 5, n)\n",
    "    #Q2 = np.floor(U_Q)\n",
    "Q2 = without_intervention.Q.values\n",
    "\n",
    "\n",
    "# D (number of children)\n",
    "lower_d, upper_d = 0.1, 3\n",
    "mu_d, sigma_d = 2, 1\n",
    "X_d = stats.truncnorm((lower_d - mu_d) / sigma_d, (upper_d - mu_d) / sigma_d, loc=mu_d, scale=sigma_d)\n",
    "U_D = X_d.rvs(n)\n",
    "D2 = A2 + np.floor(0.5 * Q2 * U_D)\n",
    "\n",
    "\n",
    "# M (physical strength)\n",
    "lower_m, upper_m = 0.1, 3\n",
    "mu_m, sigma_m = 3, 2\n",
    "X_m = stats.truncnorm((lower_m - mu_m) / sigma_m, (upper_m - mu_m) / sigma_m, loc=mu_m, scale=sigma_m)\n",
    "U_M = X_m.rvs(n)\n",
    "M2 = 3*A2 + (0.4 * Q2 * U_M)\n",
    "\n",
    "\n",
    "sigmoid = lambda x: 1/(1+ math.exp(-x))\n",
    "\n",
    "Y2 = np.zeros(n)\n",
    "for i in range(n):\n",
    "    Y2[i] = sigmoid(-10+5*A2[i]+Q2[i]+D2[i]+M2[i]) >= 0.5\n",
    "\n",
    "\n",
    "Counterfactual_df = pd.DataFrame({'A': A2, 'D': D2, 'M': M2 ,'Q': Q2,'Y':Y2})"
   ]
  },
  {
   "cell_type": "code",
   "execution_count": 64,
   "id": "abb941bb",
   "metadata": {},
   "outputs": [],
   "source": [
    "from sklearn.linear_model import LogisticRegression\n",
    "from sklearn.model_selection import train_test_split\n",
    "#Full model\n",
    "\n",
    "full_list = ['A', 'Q', 'D', 'M']\n",
    "X_train, X_test, y_train, y_test = train_test_split(without_intervention[full_list], without_intervention.Y,\n",
    "                                                   test_size = 0.2, \n",
    "                                                   stratify = without_intervention.Y)"
   ]
  },
  {
   "cell_type": "code",
   "execution_count": 65,
   "id": "e88bad6c",
   "metadata": {},
   "outputs": [],
   "source": [
    "Count_X_train = Counterfactual_df[full_list].iloc[X_train.index.values, :]\n",
    "Count_X_test = Counterfactual_df[full_list].iloc[X_test.index.values, :]\n",
    "Count_y_train = Counterfactual_df['Y'][X_train.index.values]\n",
    "Counter_y_test = Counterfactual_df['Y'][X_test.index.values]"
   ]
  },
  {
   "cell_type": "markdown",
   "id": "64afb648",
   "metadata": {},
   "source": [
    "# Logistic Regression"
   ]
  },
  {
   "cell_type": "markdown",
   "id": "0b319fae",
   "metadata": {},
   "source": [
    "## Full"
   ]
  },
  {
   "cell_type": "code",
   "execution_count": 66,
   "id": "a1d6e704",
   "metadata": {},
   "outputs": [],
   "source": [
    "lr_full = LogisticRegression()\n",
    "lr_full.fit(X_train, y_train)\n",
    "\n",
    "X_train['X_train_pred'] = lr_full.predict(X_train)\n",
    "Count_X_train['counter_f_trn_pred'] = lr_full.predict(Count_X_train)\n",
    "X_test['X_test_pred'] = lr_full.predict(X_test)\n",
    "Count_X_test['counter_f_tst_pred'] = lr_full.predict(Count_X_test)"
   ]
  },
  {
   "cell_type": "code",
   "execution_count": 89,
   "id": "c1517910",
   "metadata": {},
   "outputs": [
    {
     "data": {
      "text/plain": [
       "0.997"
      ]
     },
     "execution_count": 89,
     "metadata": {},
     "output_type": "execute_result"
    }
   ],
   "source": [
    "lr_full.score(X_test[full_list], y_test)"
   ]
  },
  {
   "cell_type": "code",
   "execution_count": 81,
   "id": "1082c1df",
   "metadata": {},
   "outputs": [
    {
     "name": "stderr",
     "output_type": "stream",
     "text": [
      "<ipython-input-81-8c619c860c82>:2: UserWarning: Boolean Series key will be reindexed to match DataFrame index.\n",
      "  len(X_test[X_test['A'] == 0][X_test['X_test_pred'] == 1])/len(X_test[X_test['A'] == 0]),\n",
      "<ipython-input-81-8c619c860c82>:3: UserWarning: Boolean Series key will be reindexed to match DataFrame index.\n",
      "  len(Count_X_test[Count_X_test['A'] == 1][Count_X_test['counter_f_tst_pred'] == 1])/len(Count_X_test[Count_X_test['A'] == 1])\n",
      "<ipython-input-81-8c619c860c82>:6: UserWarning: Boolean Series key will be reindexed to match DataFrame index.\n",
      "  len(X_test[X_test['A'] == 1][X_test['X_test_pred'] == 1])/len(X_test[X_test['A'] == 1]),\n",
      "<ipython-input-81-8c619c860c82>:7: UserWarning: Boolean Series key will be reindexed to match DataFrame index.\n",
      "  len(Count_X_test[Count_X_test['A'] == 0][Count_X_test['counter_f_tst_pred'] == 1])/len(Count_X_test[Count_X_test['A'] == 0])\n"
     ]
    },
    {
     "data": {
      "text/html": [
       "<div>\n",
       "<style scoped>\n",
       "    .dataframe tbody tr th:only-of-type {\n",
       "        vertical-align: middle;\n",
       "    }\n",
       "\n",
       "    .dataframe tbody tr th {\n",
       "        vertical-align: top;\n",
       "    }\n",
       "\n",
       "    .dataframe thead th {\n",
       "        text-align: right;\n",
       "    }\n",
       "</style>\n",
       "<table border=\"1\" class=\"dataframe\">\n",
       "  <thead>\n",
       "    <tr style=\"text-align: right;\">\n",
       "      <th></th>\n",
       "      <th>Factual</th>\n",
       "      <th>Counterfactual</th>\n",
       "    </tr>\n",
       "  </thead>\n",
       "  <tbody>\n",
       "    <tr>\n",
       "      <th>female (A = 0)</th>\n",
       "      <td>0.322621</td>\n",
       "      <td>0.587145</td>\n",
       "    </tr>\n",
       "    <tr>\n",
       "      <th>male (A = 1)</th>\n",
       "      <td>0.574307</td>\n",
       "      <td>0.296390</td>\n",
       "    </tr>\n",
       "  </tbody>\n",
       "</table>\n",
       "</div>"
      ],
      "text/plain": [
       "                 Factual  Counterfactual\n",
       "female (A = 0)  0.322621        0.587145\n",
       "male (A = 1)    0.574307        0.296390"
      ]
     },
     "execution_count": 81,
     "metadata": {},
     "output_type": "execute_result"
    }
   ],
   "source": [
    "pd.DataFrame({ 'female (A = 0)': [\n",
    "    len(X_test[X_test['A'] == 0][X_test['X_test_pred'] == 1])/len(X_test[X_test['A'] == 0]),\n",
    "    len(Count_X_test[Count_X_test['A'] == 1][Count_X_test['counter_f_tst_pred'] == 1])/len(Count_X_test[Count_X_test['A'] == 1])\n",
    "],\n",
    "              'male (A = 1)':[\n",
    "    len(X_test[X_test['A'] == 1][X_test['X_test_pred'] == 1])/len(X_test[X_test['A'] == 1]),\n",
    "    len(Count_X_test[Count_X_test['A'] == 0][Count_X_test['counter_f_tst_pred'] == 1])/len(Count_X_test[Count_X_test['A'] == 0])\n",
    "              ]              \n",
    "}, index = ['Factual', 'Counterfactual']\n",
    ").T"
   ]
  },
  {
   "cell_type": "markdown",
   "id": "a48c1b1b",
   "metadata": {},
   "source": [
    "## Unaware"
   ]
  },
  {
   "cell_type": "code",
   "execution_count": 84,
   "id": "07f76efd",
   "metadata": {},
   "outputs": [
    {
     "data": {
      "text/plain": [
       "0.973375"
      ]
     },
     "execution_count": 84,
     "metadata": {},
     "output_type": "execute_result"
    }
   ],
   "source": [
    "#Unaware\n",
    "unaware = ['Q', 'D', 'M']\n",
    "lr_unaware = LogisticRegression()\n",
    "lr_unaware.fit(X_train[unaware], y_train)"
   ]
  },
  {
   "cell_type": "code",
   "execution_count": 88,
   "id": "5ad2e856",
   "metadata": {},
   "outputs": [
    {
     "data": {
      "text/plain": [
       "0.9745"
      ]
     },
     "execution_count": 88,
     "metadata": {},
     "output_type": "execute_result"
    }
   ],
   "source": [
    "lr_unaware.score(X_test[unaware], y_test)"
   ]
  },
  {
   "cell_type": "code",
   "execution_count": 86,
   "id": "044e5a9f",
   "metadata": {},
   "outputs": [],
   "source": [
    "X_train['unaware_pred'] = lr_unaware.predict(X_train[unaware])\n",
    "Count_X_train['counter_unaware_trn_pred'] = lr_unaware.predict(Count_X_train[unaware])\n",
    "X_test['X_test_unaware_pred'] = lr_unaware.predict(X_test[unaware])\n",
    "Count_X_test['counter_unaware_tst_pred'] = lr_unaware.predict(Count_X_test[unaware])"
   ]
  },
  {
   "cell_type": "code",
   "execution_count": 87,
   "id": "a343cf3f",
   "metadata": {},
   "outputs": [
    {
     "name": "stderr",
     "output_type": "stream",
     "text": [
      "<ipython-input-87-384d6ca421c2>:2: UserWarning: Boolean Series key will be reindexed to match DataFrame index.\n",
      "  len(X_test[X_test['A'] == 0][X_test['X_test_unaware_pred'] == 1])/len(X_test[X_test['A'] == 0]),\n",
      "<ipython-input-87-384d6ca421c2>:3: UserWarning: Boolean Series key will be reindexed to match DataFrame index.\n",
      "  len(Count_X_test[Count_X_test['A'] == 1][Count_X_test['counter_unaware_tst_pred'] == 1])/len(Count_X_test[Count_X_test['A'] == 1])\n",
      "<ipython-input-87-384d6ca421c2>:6: UserWarning: Boolean Series key will be reindexed to match DataFrame index.\n",
      "  len(X_test[X_test['A'] == 1][X_test['X_test_unaware_pred'] == 1])/len(X_test[X_test['A'] == 1]),\n",
      "<ipython-input-87-384d6ca421c2>:7: UserWarning: Boolean Series key will be reindexed to match DataFrame index.\n",
      "  len(Count_X_test[Count_X_test['A'] == 0][Count_X_test['counter_unaware_tst_pred'] == 1])/len(Count_X_test[Count_X_test['A'] == 0])\n"
     ]
    },
    {
     "data": {
      "text/html": [
       "<div>\n",
       "<style scoped>\n",
       "    .dataframe tbody tr th:only-of-type {\n",
       "        vertical-align: middle;\n",
       "    }\n",
       "\n",
       "    .dataframe tbody tr th {\n",
       "        vertical-align: top;\n",
       "    }\n",
       "\n",
       "    .dataframe thead th {\n",
       "        text-align: right;\n",
       "    }\n",
       "</style>\n",
       "<table border=\"1\" class=\"dataframe\">\n",
       "  <thead>\n",
       "    <tr style=\"text-align: right;\">\n",
       "      <th></th>\n",
       "      <th>Factual</th>\n",
       "      <th>Counterfactual</th>\n",
       "    </tr>\n",
       "  </thead>\n",
       "  <tbody>\n",
       "    <tr>\n",
       "      <th>female (A = 0)</th>\n",
       "      <td>0.336218</td>\n",
       "      <td>0.576020</td>\n",
       "    </tr>\n",
       "    <tr>\n",
       "      <th>male (A = 1)</th>\n",
       "      <td>0.557515</td>\n",
       "      <td>0.319899</td>\n",
       "    </tr>\n",
       "  </tbody>\n",
       "</table>\n",
       "</div>"
      ],
      "text/plain": [
       "                 Factual  Counterfactual\n",
       "female (A = 0)  0.336218        0.576020\n",
       "male (A = 1)    0.557515        0.319899"
      ]
     },
     "execution_count": 87,
     "metadata": {},
     "output_type": "execute_result"
    }
   ],
   "source": [
    "pd.DataFrame({ 'female (A = 0)': [\n",
    "    len(X_test[X_test['A'] == 0][X_test['X_test_unaware_pred'] == 1])/len(X_test[X_test['A'] == 0]),\n",
    "    len(Count_X_test[Count_X_test['A'] == 1][Count_X_test['counter_unaware_tst_pred'] == 1])/len(Count_X_test[Count_X_test['A'] == 1])\n",
    "],\n",
    "              'male (A = 1)':[\n",
    "    len(X_test[X_test['A'] == 1][X_test['X_test_unaware_pred'] == 1])/len(X_test[X_test['A'] == 1]),\n",
    "    len(Count_X_test[Count_X_test['A'] == 0][Count_X_test['counter_unaware_tst_pred'] == 1])/len(Count_X_test[Count_X_test['A'] == 0])\n",
    "              ]              \n",
    "}, index = ['Factual', 'Counterfactual']\n",
    ").T\n"
   ]
  },
  {
   "cell_type": "markdown",
   "id": "b08a4ddd",
   "metadata": {},
   "source": [
    "## Decision Tree Classifier"
   ]
  },
  {
   "cell_type": "code",
   "execution_count": 90,
   "id": "0b64edda",
   "metadata": {},
   "outputs": [
    {
     "data": {
      "text/plain": [
       "DecisionTreeClassifier()"
      ]
     },
     "execution_count": 90,
     "metadata": {},
     "output_type": "execute_result"
    }
   ],
   "source": [
    "from sklearn.tree import DecisionTreeClassifier\n",
    "\n",
    "dt_full = DecisionTreeClassifier()\n",
    "dt_unaware = DecisionTreeClassifier()\n",
    "\n",
    "dt_full.fit(X_train[full_list], y_train)\n",
    "dt_unaware.fit(X_train[unaware], y_train)"
   ]
  },
  {
   "cell_type": "code",
   "execution_count": 92,
   "id": "30921117",
   "metadata": {},
   "outputs": [
    {
     "name": "stdout",
     "output_type": "stream",
     "text": [
      "0.999\n",
      "0.994\n"
     ]
    }
   ],
   "source": [
    "print(dt_full.score(X_test[full_list], y_test))\n",
    "print(dt_unaware.score(X_test[unaware], y_test))"
   ]
  },
  {
   "cell_type": "code",
   "execution_count": 93,
   "id": "202ee8a0",
   "metadata": {},
   "outputs": [],
   "source": [
    "X_train['dt_full_pred'] = dt_full.predict(X_train[full_list])\n",
    "Count_X_train['counter_dt_full_pred'] = dt_full.predict(Count_X_train[full_list])\n",
    "\n",
    "X_test['X_test_dt_full_pred'] = dt_full.predict(X_test[full_list])\n",
    "Count_X_test['counter_dt_full_pred'] = dt_full.predict(Count_X_test[full_list])"
   ]
  },
  {
   "cell_type": "code",
   "execution_count": 94,
   "id": "d6b67d9e",
   "metadata": {},
   "outputs": [],
   "source": [
    "X_train['dt_unaware_pred'] = dt_unaware.predict(X_train[unaware])\n",
    "Count_X_train['counter_unaware_dt_pred'] = dt_unaware.predict(Count_X_train[unaware])\n",
    "\n",
    "X_test['X_test_dt_unaware_pred'] = dt_unaware.predict(X_test[unaware])\n",
    "Count_X_test['counter_unaware_dt_pred'] = dt_unaware.predict(Count_X_test[unaware])"
   ]
  },
  {
   "cell_type": "markdown",
   "id": "7970979c",
   "metadata": {},
   "source": [
    "## Full"
   ]
  },
  {
   "cell_type": "code",
   "execution_count": 95,
   "id": "32855aea",
   "metadata": {},
   "outputs": [
    {
     "name": "stderr",
     "output_type": "stream",
     "text": [
      "<ipython-input-95-f5ab2e8aa46b>:2: UserWarning: Boolean Series key will be reindexed to match DataFrame index.\n",
      "  len(X_test[X_test['A'] == 0][X_test['X_test_dt_full_pred'] == 1])/len(X_test[X_test['A'] == 0]),\n",
      "<ipython-input-95-f5ab2e8aa46b>:3: UserWarning: Boolean Series key will be reindexed to match DataFrame index.\n",
      "  len(Count_X_test[Count_X_test['A'] == 1][Count_X_test['counter_dt_full_pred'] == 1])/len(Count_X_test[Count_X_test['A'] == 1])\n",
      "<ipython-input-95-f5ab2e8aa46b>:6: UserWarning: Boolean Series key will be reindexed to match DataFrame index.\n",
      "  len(X_test[X_test['A'] == 1][X_test['X_test_dt_full_pred'] == 1])/len(X_test[X_test['A'] == 1]),\n",
      "<ipython-input-95-f5ab2e8aa46b>:7: UserWarning: Boolean Series key will be reindexed to match DataFrame index.\n",
      "  len(Count_X_test[Count_X_test['A'] == 0][Count_X_test['counter_dt_full_pred'] == 1])/len(Count_X_test[Count_X_test['A'] == 0])\n"
     ]
    },
    {
     "data": {
      "text/html": [
       "<div>\n",
       "<style scoped>\n",
       "    .dataframe tbody tr th:only-of-type {\n",
       "        vertical-align: middle;\n",
       "    }\n",
       "\n",
       "    .dataframe tbody tr th {\n",
       "        vertical-align: top;\n",
       "    }\n",
       "\n",
       "    .dataframe thead th {\n",
       "        text-align: right;\n",
       "    }\n",
       "</style>\n",
       "<table border=\"1\" class=\"dataframe\">\n",
       "  <thead>\n",
       "    <tr style=\"text-align: right;\">\n",
       "      <th></th>\n",
       "      <th>Factual</th>\n",
       "      <th>Counterfactual</th>\n",
       "    </tr>\n",
       "  </thead>\n",
       "  <tbody>\n",
       "    <tr>\n",
       "      <th>female (A = 0)</th>\n",
       "      <td>0.316440</td>\n",
       "      <td>0.588381</td>\n",
       "    </tr>\n",
       "    <tr>\n",
       "      <th>male (A = 1)</th>\n",
       "      <td>0.575147</td>\n",
       "      <td>0.293871</td>\n",
       "    </tr>\n",
       "  </tbody>\n",
       "</table>\n",
       "</div>"
      ],
      "text/plain": [
       "                 Factual  Counterfactual\n",
       "female (A = 0)  0.316440        0.588381\n",
       "male (A = 1)    0.575147        0.293871"
      ]
     },
     "execution_count": 95,
     "metadata": {},
     "output_type": "execute_result"
    }
   ],
   "source": [
    "pd.DataFrame({ 'female (A = 0)': [\n",
    "    len(X_test[X_test['A'] == 0][X_test['X_test_dt_full_pred'] == 1])/len(X_test[X_test['A'] == 0]),\n",
    "    len(Count_X_test[Count_X_test['A'] == 1][Count_X_test['counter_dt_full_pred'] == 1])/len(Count_X_test[Count_X_test['A'] == 1])\n",
    "],\n",
    "              'male (A = 1)':[\n",
    "    len(X_test[X_test['A'] == 1][X_test['X_test_dt_full_pred'] == 1])/len(X_test[X_test['A'] == 1]),\n",
    "    len(Count_X_test[Count_X_test['A'] == 0][Count_X_test['counter_dt_full_pred'] == 1])/len(Count_X_test[Count_X_test['A'] == 0])\n",
    "              ]              \n",
    "}, index = ['Factual', 'Counterfactual']\n",
    ").T"
   ]
  },
  {
   "cell_type": "markdown",
   "id": "96e41773",
   "metadata": {},
   "source": [
    "## Unaware"
   ]
  },
  {
   "cell_type": "code",
   "execution_count": 96,
   "id": "7924e53f",
   "metadata": {},
   "outputs": [
    {
     "name": "stderr",
     "output_type": "stream",
     "text": [
      "<ipython-input-96-455c109ff28f>:2: UserWarning: Boolean Series key will be reindexed to match DataFrame index.\n",
      "  len(X_test[X_test['A'] == 0][X_test['X_test_dt_unaware_pred'] == 1])/len(X_test[X_test['A'] == 0]),\n",
      "<ipython-input-96-455c109ff28f>:3: UserWarning: Boolean Series key will be reindexed to match DataFrame index.\n",
      "  len(Count_X_test[Count_X_test['A'] == 1][Count_X_test['counter_unaware_dt_pred'] == 1])/len(Count_X_test[Count_X_test['A'] == 1])\n",
      "<ipython-input-96-455c109ff28f>:6: UserWarning: Boolean Series key will be reindexed to match DataFrame index.\n",
      "  len(X_test[X_test['A'] == 1][X_test['X_test_dt_unaware_pred'] == 1])/len(X_test[X_test['A'] == 1]),\n",
      "<ipython-input-96-455c109ff28f>:7: UserWarning: Boolean Series key will be reindexed to match DataFrame index.\n",
      "  len(Count_X_test[Count_X_test['A'] == 0][Count_X_test['counter_unaware_dt_pred'] == 1])/len(Count_X_test[Count_X_test['A'] == 0])\n"
     ]
    },
    {
     "data": {
      "text/html": [
       "<div>\n",
       "<style scoped>\n",
       "    .dataframe tbody tr th:only-of-type {\n",
       "        vertical-align: middle;\n",
       "    }\n",
       "\n",
       "    .dataframe tbody tr th {\n",
       "        vertical-align: top;\n",
       "    }\n",
       "\n",
       "    .dataframe thead th {\n",
       "        text-align: right;\n",
       "    }\n",
       "</style>\n",
       "<table border=\"1\" class=\"dataframe\">\n",
       "  <thead>\n",
       "    <tr style=\"text-align: right;\">\n",
       "      <th></th>\n",
       "      <th>Factual</th>\n",
       "      <th>Counterfactual</th>\n",
       "    </tr>\n",
       "  </thead>\n",
       "  <tbody>\n",
       "    <tr>\n",
       "      <th>female (A = 0)</th>\n",
       "      <td>0.320148</td>\n",
       "      <td>0.585909</td>\n",
       "    </tr>\n",
       "    <tr>\n",
       "      <th>male (A = 1)</th>\n",
       "      <td>0.570949</td>\n",
       "      <td>0.298908</td>\n",
       "    </tr>\n",
       "  </tbody>\n",
       "</table>\n",
       "</div>"
      ],
      "text/plain": [
       "                 Factual  Counterfactual\n",
       "female (A = 0)  0.320148        0.585909\n",
       "male (A = 1)    0.570949        0.298908"
      ]
     },
     "execution_count": 96,
     "metadata": {},
     "output_type": "execute_result"
    }
   ],
   "source": [
    "pd.DataFrame({ 'female (A = 0)': [\n",
    "    len(X_test[X_test['A'] == 0][X_test['X_test_dt_unaware_pred'] == 1])/len(X_test[X_test['A'] == 0]),\n",
    "    len(Count_X_test[Count_X_test['A'] == 1][Count_X_test['counter_unaware_dt_pred'] == 1])/len(Count_X_test[Count_X_test['A'] == 1])\n",
    "],\n",
    "              'male (A = 1)':[\n",
    "    len(X_test[X_test['A'] == 1][X_test['X_test_dt_unaware_pred'] == 1])/len(X_test[X_test['A'] == 1]),\n",
    "    len(Count_X_test[Count_X_test['A'] == 0][Count_X_test['counter_unaware_dt_pred'] == 1])/len(Count_X_test[Count_X_test['A'] == 0])\n",
    "              ]              \n",
    "}, index = ['Factual', 'Counterfactual']\n",
    ").T"
   ]
  },
  {
   "cell_type": "markdown",
   "id": "627c8813",
   "metadata": {},
   "source": [
    "## SVM Classifier"
   ]
  },
  {
   "cell_type": "code",
   "execution_count": 97,
   "id": "4567e0c1",
   "metadata": {},
   "outputs": [
    {
     "data": {
      "text/plain": [
       "SVC()"
      ]
     },
     "execution_count": 97,
     "metadata": {},
     "output_type": "execute_result"
    }
   ],
   "source": [
    "from sklearn import svm\n",
    "\n",
    "svm_full = svm.SVC()\n",
    "svm_unaware = svm.SVC()\n",
    "\n",
    "svm_full.fit(X_train[full_list], y_train)\n",
    "svm_unaware.fit(X_train[unaware], y_train)"
   ]
  },
  {
   "cell_type": "code",
   "execution_count": 98,
   "id": "a370bc30",
   "metadata": {},
   "outputs": [
    {
     "name": "stdout",
     "output_type": "stream",
     "text": [
      "0.99\n",
      "0.9825\n"
     ]
    }
   ],
   "source": [
    "print(svm_full.score(X_test[full_list], y_test))\n",
    "print(svm_unaware.score(X_test[unaware], y_test))"
   ]
  },
  {
   "cell_type": "code",
   "execution_count": 99,
   "id": "e8cee764",
   "metadata": {},
   "outputs": [],
   "source": [
    "X_train['svm_full_pred'] = svm_full.predict(X_train[full_list])\n",
    "Count_X_train['counter_full_svm_pred'] = svm_full.predict(Count_X_train[full_list])\n",
    "\n",
    "X_test['X_test_svm_full_pred'] = svm_full.predict(X_test[full_list])\n",
    "Count_X_test['counter_full_svm_pred'] = svm_full.predict(Count_X_test[full_list])"
   ]
  },
  {
   "cell_type": "code",
   "execution_count": 100,
   "id": "e0778e79",
   "metadata": {},
   "outputs": [],
   "source": [
    "X_train['svm_unaware_pred'] = svm_unaware.predict(X_train[unaware])\n",
    "Count_X_train['counter_unaware_svm_pred'] = svm_unaware.predict(Count_X_train[unaware])\n",
    "\n",
    "X_test['X_test_svm_unaware_pred'] = svm_unaware.predict(X_test[unaware])\n",
    "Count_X_test['counter_unaware_svm_pred'] = svm_unaware.predict(Count_X_test[unaware])"
   ]
  },
  {
   "cell_type": "markdown",
   "id": "e3caee4e",
   "metadata": {},
   "source": [
    "## Full"
   ]
  },
  {
   "cell_type": "code",
   "execution_count": 101,
   "id": "0c5b3777",
   "metadata": {},
   "outputs": [
    {
     "name": "stderr",
     "output_type": "stream",
     "text": [
      "<ipython-input-101-57ada0f83553>:2: UserWarning: Boolean Series key will be reindexed to match DataFrame index.\n",
      "  len(X_test[X_test['A'] == 0][X_test['X_test_svm_full_pred'] == 1])/len(X_test[X_test['A'] == 0]),\n",
      "<ipython-input-101-57ada0f83553>:3: UserWarning: Boolean Series key will be reindexed to match DataFrame index.\n",
      "  len(Count_X_test[Count_X_test['A'] == 1][Count_X_test['counter_full_svm_pred'] == 1])/len(Count_X_test[Count_X_test['A'] == 1])\n",
      "<ipython-input-101-57ada0f83553>:6: UserWarning: Boolean Series key will be reindexed to match DataFrame index.\n",
      "  len(X_test[X_test['A'] == 1][X_test['X_test_svm_full_pred'] == 1])/len(X_test[X_test['A'] == 1]),\n",
      "<ipython-input-101-57ada0f83553>:7: UserWarning: Boolean Series key will be reindexed to match DataFrame index.\n",
      "  len(Count_X_test[Count_X_test['A'] == 0][Count_X_test['counter_full_svm_pred'] == 1])/len(Count_X_test[Count_X_test['A'] == 0])\n"
     ]
    },
    {
     "data": {
      "text/html": [
       "<div>\n",
       "<style scoped>\n",
       "    .dataframe tbody tr th:only-of-type {\n",
       "        vertical-align: middle;\n",
       "    }\n",
       "\n",
       "    .dataframe tbody tr th {\n",
       "        vertical-align: top;\n",
       "    }\n",
       "\n",
       "    .dataframe thead th {\n",
       "        text-align: right;\n",
       "    }\n",
       "</style>\n",
       "<table border=\"1\" class=\"dataframe\">\n",
       "  <thead>\n",
       "    <tr style=\"text-align: right;\">\n",
       "      <th></th>\n",
       "      <th>Factual</th>\n",
       "      <th>Counterfactual</th>\n",
       "    </tr>\n",
       "  </thead>\n",
       "  <tbody>\n",
       "    <tr>\n",
       "      <th>female (A = 0)</th>\n",
       "      <td>0.331273</td>\n",
       "      <td>0.585909</td>\n",
       "    </tr>\n",
       "    <tr>\n",
       "      <th>male (A = 1)</th>\n",
       "      <td>0.570109</td>\n",
       "      <td>0.304786</td>\n",
       "    </tr>\n",
       "  </tbody>\n",
       "</table>\n",
       "</div>"
      ],
      "text/plain": [
       "                 Factual  Counterfactual\n",
       "female (A = 0)  0.331273        0.585909\n",
       "male (A = 1)    0.570109        0.304786"
      ]
     },
     "execution_count": 101,
     "metadata": {},
     "output_type": "execute_result"
    }
   ],
   "source": [
    "pd.DataFrame({ 'female (A = 0)': [\n",
    "    len(X_test[X_test['A'] == 0][X_test['X_test_svm_full_pred'] == 1])/len(X_test[X_test['A'] == 0]),\n",
    "    len(Count_X_test[Count_X_test['A'] == 1][Count_X_test['counter_full_svm_pred'] == 1])/len(Count_X_test[Count_X_test['A'] == 1])\n",
    "],\n",
    "              'male (A = 1)':[\n",
    "    len(X_test[X_test['A'] == 1][X_test['X_test_svm_full_pred'] == 1])/len(X_test[X_test['A'] == 1]),\n",
    "    len(Count_X_test[Count_X_test['A'] == 0][Count_X_test['counter_full_svm_pred'] == 1])/len(Count_X_test[Count_X_test['A'] == 0])\n",
    "              ]              \n",
    "}, index = ['Factual', 'Counterfactual']\n",
    ").T"
   ]
  },
  {
   "cell_type": "markdown",
   "id": "277c4430",
   "metadata": {},
   "source": [
    "## Unaware"
   ]
  },
  {
   "cell_type": "code",
   "execution_count": 102,
   "id": "e1fb0ba7",
   "metadata": {},
   "outputs": [
    {
     "name": "stderr",
     "output_type": "stream",
     "text": [
      "<ipython-input-102-e2d29d6902d2>:2: UserWarning: Boolean Series key will be reindexed to match DataFrame index.\n",
      "  len(X_test[X_test['A'] == 0][X_test['X_test_svm_unaware_pred'] == 1])/len(X_test[X_test['A'] == 0]),\n",
      "<ipython-input-102-e2d29d6902d2>:3: UserWarning: Boolean Series key will be reindexed to match DataFrame index.\n",
      "  len(Count_X_test[Count_X_test['A'] == 1][Count_X_test['counter_unaware_svm_pred'] == 1])/len(Count_X_test[Count_X_test['A'] == 1])\n",
      "<ipython-input-102-e2d29d6902d2>:6: UserWarning: Boolean Series key will be reindexed to match DataFrame index.\n",
      "  len(X_test[X_test['A'] == 1][X_test['X_test_svm_unaware_pred'] == 1])/len(X_test[X_test['A'] == 1]),\n",
      "<ipython-input-102-e2d29d6902d2>:7: UserWarning: Boolean Series key will be reindexed to match DataFrame index.\n",
      "  len(Count_X_test[Count_X_test['A'] == 0][Count_X_test['counter_unaware_svm_pred'] == 1])/len(Count_X_test[Count_X_test['A'] == 0])\n"
     ]
    },
    {
     "data": {
      "text/html": [
       "<div>\n",
       "<style scoped>\n",
       "    .dataframe tbody tr th:only-of-type {\n",
       "        vertical-align: middle;\n",
       "    }\n",
       "\n",
       "    .dataframe tbody tr th {\n",
       "        vertical-align: top;\n",
       "    }\n",
       "\n",
       "    .dataframe thead th {\n",
       "        text-align: right;\n",
       "    }\n",
       "</style>\n",
       "<table border=\"1\" class=\"dataframe\">\n",
       "  <thead>\n",
       "    <tr style=\"text-align: right;\">\n",
       "      <th></th>\n",
       "      <th>Factual</th>\n",
       "      <th>Counterfactual</th>\n",
       "    </tr>\n",
       "  </thead>\n",
       "  <tbody>\n",
       "    <tr>\n",
       "      <th>female (A = 0)</th>\n",
       "      <td>0.338690</td>\n",
       "      <td>0.580964</td>\n",
       "    </tr>\n",
       "    <tr>\n",
       "      <th>male (A = 1)</th>\n",
       "      <td>0.564232</td>\n",
       "      <td>0.319899</td>\n",
       "    </tr>\n",
       "  </tbody>\n",
       "</table>\n",
       "</div>"
      ],
      "text/plain": [
       "                 Factual  Counterfactual\n",
       "female (A = 0)  0.338690        0.580964\n",
       "male (A = 1)    0.564232        0.319899"
      ]
     },
     "execution_count": 102,
     "metadata": {},
     "output_type": "execute_result"
    }
   ],
   "source": [
    "pd.DataFrame({ 'female (A = 0)': [\n",
    "    len(X_test[X_test['A'] == 0][X_test['X_test_svm_unaware_pred'] == 1])/len(X_test[X_test['A'] == 0]),\n",
    "    len(Count_X_test[Count_X_test['A'] == 1][Count_X_test['counter_unaware_svm_pred'] == 1])/len(Count_X_test[Count_X_test['A'] == 1])\n",
    "],\n",
    "              'male (A = 1)':[\n",
    "    len(X_test[X_test['A'] == 1][X_test['X_test_svm_unaware_pred'] == 1])/len(X_test[X_test['A'] == 1]),\n",
    "    len(Count_X_test[Count_X_test['A'] == 0][Count_X_test['counter_unaware_svm_pred'] == 1])/len(Count_X_test[Count_X_test['A'] == 0])\n",
    "              ]              \n",
    "}, index = ['Factual', 'Counterfactual']\n",
    ").T"
   ]
  },
  {
   "cell_type": "code",
   "execution_count": null,
   "id": "8c23a49c",
   "metadata": {},
   "outputs": [],
   "source": []
  }
 ],
 "metadata": {
  "kernelspec": {
   "display_name": "Python 3",
   "language": "python",
   "name": "python3"
  },
  "language_info": {
   "codemirror_mode": {
    "name": "ipython",
    "version": 3
   },
   "file_extension": ".py",
   "mimetype": "text/x-python",
   "name": "python",
   "nbconvert_exporter": "python",
   "pygments_lexer": "ipython3",
   "version": "3.8.8"
  }
 },
 "nbformat": 4,
 "nbformat_minor": 5
}
