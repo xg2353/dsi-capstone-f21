{
 "cells": [
  {
   "cell_type": "code",
   "execution_count": 1,
   "id": "eb759bcf",
   "metadata": {},
   "outputs": [],
   "source": [
    "import numpy as np\n",
    "import pandas as pd\n",
    "\n",
    "df = pd.read_csv('law_data.csv')\n",
    "df = df.drop(columns = ['Unnamed: 0'])\n",
    "df = df[df['region_first'] != 'PO']"
   ]
  },
  {
   "cell_type": "code",
   "execution_count": 2,
   "id": "7435678a",
   "metadata": {},
   "outputs": [],
   "source": [
    "race_coded = pd.get_dummies(df['race'])\n",
    "df = pd.concat([df,race_coded],axis=1)"
   ]
  },
  {
   "cell_type": "code",
   "execution_count": 3,
   "id": "1036e805",
   "metadata": {},
   "outputs": [],
   "source": [
    "gender_coded = pd.get_dummies(df['sex'])\n",
    "gender_coded.columns = ['female', 'male']\n",
    "df = pd.concat([df, gender_coded],axis=1)"
   ]
  },
  {
   "cell_type": "code",
   "execution_count": 4,
   "id": "16dcf224",
   "metadata": {},
   "outputs": [],
   "source": [
    "df = df.drop(columns = ['race', 'sex'])"
   ]
  },
  {
   "cell_type": "code",
   "execution_count": 5,
   "id": "18c242a0",
   "metadata": {},
   "outputs": [],
   "source": [
    "sense_cols = ['Amerindian', 'Asian', 'Black', 'Hispanic', 'Mexican', 'Other',\n",
    "       'Puertorican', 'White', 'female', 'male']"
   ]
  },
  {
   "cell_type": "code",
   "execution_count": 6,
   "id": "8260384e",
   "metadata": {},
   "outputs": [],
   "source": [
    "from sklearn.model_selection import train_test_split\n",
    "\n",
    "X = df.loc[:, df.columns !='ZFYA']\n",
    "y = df['ZFYA']\n",
    "\n",
    "X_train, X_test, y_train, y_test = train_test_split(X, y, test_size = 0.2, random_state = 42)"
   ]
  },
  {
   "cell_type": "code",
   "execution_count": 7,
   "id": "ad7843fc",
   "metadata": {},
   "outputs": [],
   "source": [
    "n = len(X_train)\n",
    "ne = len(X_test)\n",
    "\n",
    "K = len(sense_cols)  #latent variable knowledge that affects gpa, last and fya, but is not related to race and sex"
   ]
  },
  {
   "cell_type": "code",
   "execution_count": 8,
   "id": "8f127243",
   "metadata": {},
   "outputs": [],
   "source": [
    "X_train['LSAT'] = X_train['LSAT'].astype(int)\n",
    "X_test['LSAT'] = X_test['LSAT'].astype(int)"
   ]
  },
  {
   "cell_type": "code",
   "execution_count": 9,
   "id": "71f8477e",
   "metadata": {},
   "outputs": [],
   "source": [
    "law_stan_data = {\n",
    "    'N' : n, #number of observations\n",
    "    'K' : K, \n",
    "    'a' : np.array(X_train[sense_cols]), #protected variable race and sex\n",
    "    'ugpa' : np.array(X_train['UGPA']), \n",
    "    'lsat' : np.array(X_train['LSAT']),\n",
    "    'zfya' : np.array(y_train)\n",
    "       }"
   ]
  },
  {
   "cell_type": "code",
   "execution_count": 10,
   "id": "f34ca58d",
   "metadata": {},
   "outputs": [],
   "source": [
    "model= \"\"\"\n",
    "data {\n",
    "  int<lower = 0> N; // number of observations\n",
    "  int<lower = 0> K; // number of covariates\n",
    "  matrix[N, K]   a; // sensitive variables\n",
    "  real           ugpa[N]; // UGPA\n",
    "  int            lsat[N]; // LSAT\n",
    "  real           zfya[N]; // ZFYA\n",
    "  \n",
    "}\n",
    "\n",
    "transformed data {\n",
    "  \n",
    " vector[K] zero_K;\n",
    " vector[K] one_K;\n",
    " \n",
    " zero_K = rep_vector(0,K);\n",
    " one_K = rep_vector(1,K);\n",
    "\n",
    "}\n",
    "\n",
    "parameters {\n",
    "\n",
    "  vector[N] u;\n",
    "\n",
    "  real ugpa0;\n",
    "  real eta_u_ugpa;\n",
    "  real lsat0;\n",
    "  real eta_u_lsat;\n",
    "  real eta_u_zfya;\n",
    "  \n",
    "  vector[K] eta_a_ugpa;\n",
    "  vector[K] eta_a_lsat;\n",
    "  vector[K] eta_a_zfya;\n",
    "  \n",
    "  \n",
    "  real<lower=0> sigma_g_Sq;\n",
    "}\n",
    "\n",
    "transformed parameters  {\n",
    " // Population standard deviation (a positive real number)\n",
    " real<lower=0> sigma_g;\n",
    " // Standard deviation (derived from variance)\n",
    " sigma_g = sqrt(sigma_g_Sq);\n",
    "}\n",
    "\n",
    "model {\n",
    "  \n",
    "  // don't have data about this\n",
    "  u ~ normal(0, 1);\n",
    "  \n",
    "  ugpa0 ~ normal(0, 1);\n",
    "  eta_u_ugpa ~ normal(0, 1);\n",
    "  lsat0 ~ normal(0, 1);\n",
    "  eta_u_lsat ~ normal(0, 1);\n",
    "  eta_u_zfya ~ normal(0, 1);\n",
    "\n",
    "  eta_a_ugpa ~ normal(zero_K, one_K);\n",
    "  eta_a_lsat ~ normal(zero_K, one_K);\n",
    "  eta_a_zfya ~ normal(zero_K, one_K);\n",
    "\n",
    "  sigma_g_Sq ~ inv_gamma(1, 1);\n",
    "\n",
    "  // have data about these\n",
    "  ugpa ~ normal(ugpa0 + eta_u_ugpa * u + a * eta_a_ugpa, sigma_g);\n",
    "  lsat ~ poisson(exp(lsat0 + eta_u_lsat * u + a * eta_a_lsat));\n",
    "  zfya ~ normal(eta_u_zfya * u + a * eta_a_zfya, 1);\n",
    "\n",
    "}\n",
    "\"\"\""
   ]
  },
  {
   "cell_type": "code",
   "execution_count": 11,
   "id": "b7635b6c",
   "metadata": {},
   "outputs": [],
   "source": [
    "import stan\n",
    "import nest_asyncio\n",
    "nest_asyncio.apply()"
   ]
  },
  {
   "cell_type": "code",
   "execution_count": 12,
   "id": "f6da009c",
   "metadata": {},
   "outputs": [
    {
     "name": "stdout",
     "output_type": "stream",
     "text": [
      "Building...\n"
     ]
    },
    {
     "name": "stderr",
     "output_type": "stream",
     "text": [
      "\n",
      "Building: 30.3s, done.Messages from stanc:\n",
      "Warning: The parameter eta_a_zfya has no priors.\n",
      "Warning: The parameter eta_a_ugpa has no priors.\n",
      "Warning: The parameter eta_a_lsat has no priors.\n",
      "Sampling:   0%\n",
      "Sampling:   0% (1/1030)\n",
      "Sampling:  10% (100/1030)\n",
      "Sampling:  19% (200/1030)\n",
      "Sampling:  29% (300/1030)\n",
      "Sampling:  39% (400/1030)\n",
      "Sampling:  49% (500/1030)\n",
      "Sampling:  58% (600/1030)\n",
      "Sampling:  68% (700/1030)\n",
      "Sampling:  78% (800/1030)\n",
      "Sampling:  87% (900/1030)\n",
      "Sampling:  97% (1000/1030)\n",
      "Sampling:  97% (1001/1030)\n",
      "Sampling: 100% (1030/1030)\n",
      "Sampling: 100% (1030/1030), done.\n",
      "Messages received during sampling:\n",
      "  Gradient evaluation took 0.009241 seconds\n",
      "  1000 transitions using 10 leapfrog steps per transition would take 92.41 seconds.\n",
      "  Adjust your expectations accordingly!\n"
     ]
    },
    {
     "ename": "AssertionError",
     "evalue": "eta",
     "output_type": "error",
     "traceback": [
      "\u001b[0;31m---------------------------------------------------------------------------\u001b[0m",
      "\u001b[0;31mAssertionError\u001b[0m                            Traceback (most recent call last)",
      "\u001b[0;32m<ipython-input-12-4dfea4b2bc96>\u001b[0m in \u001b[0;36m<module>\u001b[0;34m\u001b[0m\n\u001b[1;32m      3\u001b[0m \u001b[0mposterior\u001b[0m \u001b[0;34m=\u001b[0m \u001b[0mstan\u001b[0m\u001b[0;34m.\u001b[0m\u001b[0mbuild\u001b[0m\u001b[0;34m(\u001b[0m\u001b[0mmodel\u001b[0m\u001b[0;34m,\u001b[0m \u001b[0mdata\u001b[0m\u001b[0;34m=\u001b[0m\u001b[0mlaw_stan_data\u001b[0m\u001b[0;34m,\u001b[0m \u001b[0mrandom_seed\u001b[0m\u001b[0;34m=\u001b[0m\u001b[0;36m1\u001b[0m\u001b[0;34m)\u001b[0m\u001b[0;34m\u001b[0m\u001b[0;34m\u001b[0m\u001b[0m\n\u001b[1;32m      4\u001b[0m \u001b[0mfit\u001b[0m \u001b[0;34m=\u001b[0m \u001b[0mposterior\u001b[0m\u001b[0;34m.\u001b[0m\u001b[0msample\u001b[0m\u001b[0;34m(\u001b[0m\u001b[0mnum_chains\u001b[0m\u001b[0;34m=\u001b[0m \u001b[0;36m1\u001b[0m\u001b[0;34m,\u001b[0m \u001b[0mnum_samples\u001b[0m\u001b[0;34m=\u001b[0m\u001b[0;36m30\u001b[0m\u001b[0;34m)\u001b[0m\u001b[0;34m\u001b[0m\u001b[0;34m\u001b[0m\u001b[0m\n\u001b[0;32m----> 5\u001b[0;31m \u001b[0mla_law_train\u001b[0m \u001b[0;34m=\u001b[0m \u001b[0mfit\u001b[0m\u001b[0;34m[\u001b[0m\u001b[0;34m\"eta\"\u001b[0m\u001b[0;34m]\u001b[0m\u001b[0;34m\u001b[0m\u001b[0;34m\u001b[0m\u001b[0m\n\u001b[0m",
      "\u001b[0;32m~/opt/anaconda3/lib/python3.8/site-packages/stan/fit.py\u001b[0m in \u001b[0;36m__getitem__\u001b[0;34m(self, param)\u001b[0m\n\u001b[1;32m    121\u001b[0m     \u001b[0;32mdef\u001b[0m \u001b[0m__getitem__\u001b[0m\u001b[0;34m(\u001b[0m\u001b[0mself\u001b[0m\u001b[0;34m,\u001b[0m \u001b[0mparam\u001b[0m\u001b[0;34m)\u001b[0m\u001b[0;34m:\u001b[0m\u001b[0;34m\u001b[0m\u001b[0;34m\u001b[0m\u001b[0m\n\u001b[1;32m    122\u001b[0m         \u001b[0;34m\"\"\"Returns array with shape (stan_dimensions, num_chains * num_samples)\"\"\"\u001b[0m\u001b[0;34m\u001b[0m\u001b[0;34m\u001b[0m\u001b[0m\n\u001b[0;32m--> 123\u001b[0;31m         \u001b[0;32massert\u001b[0m \u001b[0mparam\u001b[0m\u001b[0;34m.\u001b[0m\u001b[0mendswith\u001b[0m\u001b[0;34m(\u001b[0m\u001b[0;34m\"__\"\u001b[0m\u001b[0;34m)\u001b[0m \u001b[0;32mor\u001b[0m \u001b[0mparam\u001b[0m \u001b[0;32min\u001b[0m \u001b[0mself\u001b[0m\u001b[0;34m.\u001b[0m\u001b[0mparam_names\u001b[0m\u001b[0;34m,\u001b[0m \u001b[0mparam\u001b[0m\u001b[0;34m\u001b[0m\u001b[0;34m\u001b[0m\u001b[0m\n\u001b[0m\u001b[1;32m    124\u001b[0m         \u001b[0mparam_indexes\u001b[0m \u001b[0;34m=\u001b[0m \u001b[0mself\u001b[0m\u001b[0;34m.\u001b[0m\u001b[0m_parameter_indexes\u001b[0m\u001b[0;34m(\u001b[0m\u001b[0mparam\u001b[0m\u001b[0;34m)\u001b[0m\u001b[0;34m\u001b[0m\u001b[0;34m\u001b[0m\u001b[0m\n\u001b[1;32m    125\u001b[0m         \u001b[0mparam_dim\u001b[0m \u001b[0;34m=\u001b[0m \u001b[0;34m[\u001b[0m\u001b[0;34m]\u001b[0m \u001b[0;32mif\u001b[0m \u001b[0mparam\u001b[0m \u001b[0;32min\u001b[0m \u001b[0mself\u001b[0m\u001b[0;34m.\u001b[0m\u001b[0msample_and_sampler_param_names\u001b[0m \u001b[0;32melse\u001b[0m \u001b[0mself\u001b[0m\u001b[0;34m.\u001b[0m\u001b[0mdims\u001b[0m\u001b[0;34m[\u001b[0m\u001b[0mself\u001b[0m\u001b[0;34m.\u001b[0m\u001b[0mparam_names\u001b[0m\u001b[0;34m.\u001b[0m\u001b[0mindex\u001b[0m\u001b[0;34m(\u001b[0m\u001b[0mparam\u001b[0m\u001b[0;34m)\u001b[0m\u001b[0;34m]\u001b[0m\u001b[0;34m\u001b[0m\u001b[0;34m\u001b[0m\u001b[0m\n",
      "\u001b[0;31mAssertionError\u001b[0m: eta"
     ]
    }
   ],
   "source": [
    "#import asyncio\n",
    "#asyncio.sleep(100)\n",
    "posterior = stan.build(model, data=law_stan_data, random_seed=1)\n",
    "fit = posterior.sample(num_chains= 1, num_samples=30)\n",
    "la_law_train = fit[\"eta\"]\n"
   ]
  },
  {
   "cell_type": "code",
   "execution_count": 31,
   "id": "eaec74ec",
   "metadata": {},
   "outputs": [],
   "source": [
    "U_train = fit['u'].mean(axis = 0)\n",
    "pd.DataFrame(U_train).to_csv('U_train.csv')\n",
    "\n",
    "ugpa0 = fit['ugpa0'].mean()\n",
    "eta_u_gpa = fit['eta_u_ugpa'].mean()\n",
    "eta_a_ugpa = fit['eta_a_ugpa'].mean(axis = 0)\n",
    "\n",
    "lsat0 = fit['lsat0'].mean()\n",
    "eta_u_lsat = fit['eta_u_lsat'].mean()\n",
    "eta_a_lsat = fit['eta_a_lsat'].mean(axis = 0)\n",
    "\n",
    "sigma_g = fit['sigma_g'].mean()"
   ]
  },
  {
   "cell_type": "code",
   "execution_count": null,
   "id": "e94ab39b",
   "metadata": {},
   "outputs": [],
   "source": []
  }
 ],
 "metadata": {
  "kernelspec": {
   "display_name": "Python 3",
   "language": "python",
   "name": "python3"
  },
  "language_info": {
   "codemirror_mode": {
    "name": "ipython",
    "version": 3
   },
   "file_extension": ".py",
   "mimetype": "text/x-python",
   "name": "python",
   "nbconvert_exporter": "python",
   "pygments_lexer": "ipython3",
   "version": "3.8.8"
  }
 },
 "nbformat": 4,
 "nbformat_minor": 5
}
