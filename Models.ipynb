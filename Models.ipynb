{
 "cells": [
  {
   "cell_type": "code",
   "execution_count": 1,
   "id": "eb759bcf",
   "metadata": {},
   "outputs": [],
   "source": [
    "import numpy as np\n",
    "import pandas as pd\n",
    "\n",
    "df = pd.read_csv('law_data.csv')\n",
    "df = df.drop(columns = ['Unnamed: 0'])\n",
    "df = df[df['region_first'] != 'PO']"
   ]
  },
  {
   "cell_type": "code",
   "execution_count": 2,
   "id": "7435678a",
   "metadata": {},
   "outputs": [],
   "source": [
    "race_coded = pd.get_dummies(df['race'])\n",
    "df = pd.concat([df,race_coded],axis=1)"
   ]
  },
  {
   "cell_type": "code",
   "execution_count": 3,
   "id": "1036e805",
   "metadata": {},
   "outputs": [],
   "source": [
    "gender_coded = pd.get_dummies(df['sex'])\n",
    "gender_coded.columns = ['female', 'male']\n",
    "df = pd.concat([df, gender_coded],axis=1)"
   ]
  },
  {
   "cell_type": "code",
   "execution_count": 4,
   "id": "16dcf224",
   "metadata": {},
   "outputs": [],
   "source": [
    "df = df.drop(columns = ['race', 'sex'])"
   ]
  },
  {
   "cell_type": "code",
   "execution_count": 5,
   "id": "18c242a0",
   "metadata": {},
   "outputs": [],
   "source": [
    "sense_cols = ['Amerindian', 'Asian', 'Black', 'Hispanic', 'Mexican', 'Other',\n",
    "       'Puertorican', 'White', 'female', 'male']"
   ]
  },
  {
   "cell_type": "code",
   "execution_count": 6,
   "id": "8260384e",
   "metadata": {},
   "outputs": [],
   "source": [
    "from sklearn.model_selection import train_test_split\n",
    "\n",
    "X = df.loc[:, df.columns !='ZFYA']\n",
    "y = df['ZFYA']\n",
    "\n",
    "X_train, X_test, y_train, y_test = train_test_split(X, y, test_size = 0.2, random_state = 42)"
   ]
  },
  {
   "cell_type": "code",
   "execution_count": 7,
   "id": "ad7843fc",
   "metadata": {},
   "outputs": [],
   "source": [
    "n = len(X_train)\n",
    "ne = len(X_test)\n",
    "K = len(sense_cols)"
   ]
  },
  {
   "cell_type": "code",
   "execution_count": 8,
   "id": "8f127243",
   "metadata": {},
   "outputs": [],
   "source": [
    "X_train['LSAT'] = np.round(X_train['LSAT'], 0)\n",
    "X_test['LSAT'] = np.round(X_test['LSAT'], 0)"
   ]
  },
  {
   "cell_type": "code",
   "execution_count": 9,
   "id": "54e4aea4",
   "metadata": {},
   "outputs": [
    {
     "data": {
      "text/plain": [
       "array([3.4, 3.1, 3.5, ..., 3.8, 2.6, 3.4])"
      ]
     },
     "execution_count": 9,
     "metadata": {},
     "output_type": "execute_result"
    }
   ],
   "source": [
    "np.array(X_train['UGPA'])"
   ]
  },
  {
   "cell_type": "code",
   "execution_count": 11,
   "id": "71f8477e",
   "metadata": {},
   "outputs": [],
   "source": [
    "law_stan_data = {'N' : n, \n",
    "        'K' : K, \n",
    "        'a' : np.array(X_train[sense_cols]), \n",
    "        'ugpa' : np.array(X_train['UGPA']), \n",
    "       'lsat' : np.array(X_train['LSAT']),\n",
    "       'zfya' : np.array(y_train)\n",
    "       }"
   ]
  },
  {
   "cell_type": "code",
   "execution_count": 12,
   "id": "f34ca58d",
   "metadata": {},
   "outputs": [],
   "source": [
    "model= \"\"\"\n",
    "data {\n",
    "  int<lower = 0> N; // number of observations\n",
    "  int<lower = 0> K; // number of covariates\n",
    "  matrix[N, K]   a; // sensitive variables\n",
    "  real           ugpa[N]; // UGPA\n",
    "  int            lsat[N]; // LSAT\n",
    "  real           zfya[N]; // ZFYA\n",
    "  \n",
    "}\n",
    "\n",
    "transformed data {\n",
    "  \n",
    " vector[K] zero_K;\n",
    " vector[K] one_K;\n",
    " \n",
    " zero_K = rep_vector(0,K);\n",
    " one_K = rep_vector(1,K);\n",
    "\n",
    "}\n",
    "\n",
    "parameters {\n",
    "\n",
    "  vector[N] u;\n",
    "\n",
    "  real ugpa0;\n",
    "  real eta_u_ugpa;\n",
    "  real lsat0;\n",
    "  real eta_u_lsat;\n",
    "  real eta_u_zfya;\n",
    "  \n",
    "  vector[K] eta_a_ugpa;\n",
    "  vector[K] eta_a_lsat;\n",
    "  vector[K] eta_a_zfya;\n",
    "  \n",
    "  \n",
    "  real<lower=0> sigma_g_Sq;\n",
    "}\n",
    "\n",
    "transformed parameters  {\n",
    " // Population standard deviation (a positive real number)\n",
    " real<lower=0> sigma_g;\n",
    " // Standard deviation (derived from variance)\n",
    " sigma_g = sqrt(sigma_g_Sq);\n",
    "}\n",
    "\n",
    "model {\n",
    "  \n",
    "  // don't have data about this\n",
    "  u ~ normal(0, 1);\n",
    "  \n",
    "  ugpa0      ~ normal(0, 1);\n",
    "  eta_u_ugpa ~ normal(0, 1);\n",
    "  lsat0     ~ normal(0, 1);\n",
    "  eta_u_lsat ~ normal(0, 1);\n",
    "  eta_u_zfya ~ normal(0, 1);\n",
    "\n",
    "  eta_a_ugpa ~ normal(zero_K, one_K);\n",
    "  eta_a_lsat ~ normal(zero_K, one_K);\n",
    "  eta_a_zfya ~ normal(zero_K, one_K);\n",
    "\n",
    "  sigma_g_Sq ~ inv_gamma(1, 1);\n",
    "\n",
    "  // have data about these\n",
    "  ugpa ~ normal(ugpa0 + eta_u_ugpa * u + a * eta_a_ugpa, sigma_g);\n",
    "  lsat ~ poisson(exp(lsat0 + eta_u_lsat * u + a * eta_a_lsat));\n",
    "  zfya ~ normal(eta_u_zfya * u + a * eta_a_zfya, 1);\n",
    "\n",
    "}\n",
    "\"\"\""
   ]
  },
  {
   "cell_type": "code",
   "execution_count": 15,
   "id": "b7635b6c",
   "metadata": {},
   "outputs": [
    {
     "ename": "ModuleNotFoundError",
     "evalue": "No module named 'pystan'",
     "output_type": "error",
     "traceback": [
      "\u001b[0;31m---------------------------------------------------------------------------\u001b[0m",
      "\u001b[0;31mModuleNotFoundError\u001b[0m                       Traceback (most recent call last)",
      "\u001b[0;32m<ipython-input-15-ca8618bb8e4a>\u001b[0m in \u001b[0;36m<module>\u001b[0;34m\u001b[0m\n\u001b[0;32m----> 1\u001b[0;31m \u001b[0;32mimport\u001b[0m \u001b[0mpystan\u001b[0m\u001b[0;34m\u001b[0m\u001b[0;34m\u001b[0m\u001b[0m\n\u001b[0m",
      "\u001b[0;31mModuleNotFoundError\u001b[0m: No module named 'pystan'"
     ]
    }
   ],
   "source": [
    "import pystan"
   ]
  },
  {
   "cell_type": "code",
   "execution_count": 14,
   "id": "fb332583",
   "metadata": {},
   "outputs": [
    {
     "ename": "RuntimeError",
     "evalue": "asyncio.run() cannot be called from a running event loop",
     "output_type": "error",
     "traceback": [
      "\u001b[0;31m---------------------------------------------------------------------------\u001b[0m",
      "\u001b[0;31mRuntimeError\u001b[0m                              Traceback (most recent call last)",
      "\u001b[0;32m<ipython-input-14-e6854bc4b4ad>\u001b[0m in \u001b[0;36m<module>\u001b[0;34m\u001b[0m\n\u001b[0;32m----> 1\u001b[0;31m \u001b[0mfit\u001b[0m \u001b[0;34m=\u001b[0m \u001b[0mstan\u001b[0m\u001b[0;34m.\u001b[0m\u001b[0mbuild\u001b[0m\u001b[0;34m(\u001b[0m\u001b[0mmodel\u001b[0m\u001b[0;34m,\u001b[0m \u001b[0mdata\u001b[0m \u001b[0;34m=\u001b[0m \u001b[0mlaw_stan_data\u001b[0m\u001b[0;34m)\u001b[0m\u001b[0;34m\u001b[0m\u001b[0;34m\u001b[0m\u001b[0m\n\u001b[0m",
      "\u001b[0;32m~/opt/anaconda3/lib/python3.8/site-packages/stan/model.py\u001b[0m in \u001b[0;36mbuild\u001b[0;34m(program_code, data, random_seed)\u001b[0m\n\u001b[1;32m    515\u001b[0m \u001b[0;34m\u001b[0m\u001b[0m\n\u001b[1;32m    516\u001b[0m     \u001b[0;32mtry\u001b[0m\u001b[0;34m:\u001b[0m\u001b[0;34m\u001b[0m\u001b[0;34m\u001b[0m\u001b[0m\n\u001b[0;32m--> 517\u001b[0;31m         \u001b[0;32mreturn\u001b[0m \u001b[0masyncio\u001b[0m\u001b[0;34m.\u001b[0m\u001b[0mrun\u001b[0m\u001b[0;34m(\u001b[0m\u001b[0mgo\u001b[0m\u001b[0;34m(\u001b[0m\u001b[0;34m)\u001b[0m\u001b[0;34m)\u001b[0m\u001b[0;34m\u001b[0m\u001b[0;34m\u001b[0m\u001b[0m\n\u001b[0m\u001b[1;32m    518\u001b[0m     \u001b[0;32mexcept\u001b[0m \u001b[0mKeyboardInterrupt\u001b[0m\u001b[0;34m:\u001b[0m\u001b[0;34m\u001b[0m\u001b[0;34m\u001b[0m\u001b[0m\n\u001b[1;32m    519\u001b[0m         \u001b[0;32mreturn\u001b[0m  \u001b[0;31m# type: ignore\u001b[0m\u001b[0;34m\u001b[0m\u001b[0;34m\u001b[0m\u001b[0m\n",
      "\u001b[0;32m~/opt/anaconda3/lib/python3.8/asyncio/runners.py\u001b[0m in \u001b[0;36mrun\u001b[0;34m(main, debug)\u001b[0m\n\u001b[1;32m     31\u001b[0m     \"\"\"\n\u001b[1;32m     32\u001b[0m     \u001b[0;32mif\u001b[0m \u001b[0mevents\u001b[0m\u001b[0;34m.\u001b[0m\u001b[0m_get_running_loop\u001b[0m\u001b[0;34m(\u001b[0m\u001b[0;34m)\u001b[0m \u001b[0;32mis\u001b[0m \u001b[0;32mnot\u001b[0m \u001b[0;32mNone\u001b[0m\u001b[0;34m:\u001b[0m\u001b[0;34m\u001b[0m\u001b[0;34m\u001b[0m\u001b[0m\n\u001b[0;32m---> 33\u001b[0;31m         raise RuntimeError(\n\u001b[0m\u001b[1;32m     34\u001b[0m             \"asyncio.run() cannot be called from a running event loop\")\n\u001b[1;32m     35\u001b[0m \u001b[0;34m\u001b[0m\u001b[0m\n",
      "\u001b[0;31mRuntimeError\u001b[0m: asyncio.run() cannot be called from a running event loop"
     ]
    }
   ],
   "source": [
    "fit = stan.build(model, data = law_stan_data)"
   ]
  },
  {
   "cell_type": "code",
   "execution_count": null,
   "id": "f5ed89cf",
   "metadata": {},
   "outputs": [],
   "source": []
  }
 ],
 "metadata": {
  "kernelspec": {
   "display_name": "Python 3",
   "language": "python",
   "name": "python3"
  },
  "language_info": {
   "codemirror_mode": {
    "name": "ipython",
    "version": 3
   },
   "file_extension": ".py",
   "mimetype": "text/x-python",
   "name": "python",
   "nbconvert_exporter": "python",
   "pygments_lexer": "ipython3",
   "version": "3.8.8"
  }
 },
 "nbformat": 4,
 "nbformat_minor": 5
}
