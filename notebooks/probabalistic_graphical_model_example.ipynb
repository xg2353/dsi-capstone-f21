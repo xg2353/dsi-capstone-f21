{
  "nbformat": 4,
  "nbformat_minor": 0,
  "metadata": {
    "colab": {
      "name": "probabalistic_graphical_model_example.ipynb",
      "provenance": [],
      "collapsed_sections": []
    },
    "kernelspec": {
      "name": "python3",
      "display_name": "Python 3"
    }
  },
  "cells": [
    {
      "cell_type": "markdown",
      "metadata": {
        "id": "9LT1Xl5W5zYF"
      },
      "source": [
        "# Capstone - Causality-Informed Fairness (Fall 2021)\n",
        "\n"
      ]
    },
    {
      "cell_type": "markdown",
      "metadata": {
        "id": "GCFrstXosxvw"
      },
      "source": [
        "##**Purpose:** <br>\n",
        "This notebook is intended to familiarize the team with basic concepts in causal inference and counterfactual fairness (this notebook follows the paper [Counterfactual Fairness](https://drive.google.com/file/d/1c_ARLseZFmo_bk4Cr3SPMACxRWpSLyda/view?usp=sharing)).<br><br>\n",
        "Here, we will:\n",
        "1. Demonstrate how we can define (and draw) causal models. \n",
        "2. Implement the \"Law School Success\" example in section 5 of the paper above."
      ]
    },
    {
      "cell_type": "markdown",
      "metadata": {
        "id": "_bJwVj5K595T"
      },
      "source": [
        "## **Approach**:\n",
        "\n",
        "**1. Draw the causal graph**\n"
      ]
    },
    {
      "cell_type": "code",
      "metadata": {
        "id": "9s_Z8qLRZkK8"
      },
      "source": [
        "%matplotlib inline\n",
        "import networkx as nx"
      ],
      "execution_count": 78,
      "outputs": []
    },
    {
      "cell_type": "code",
      "metadata": {
        "colab": {
          "base_uri": "https://localhost:8080/",
          "height": 319
        },
        "id": "gq41n5iamZ9p",
        "outputId": "be897d6c-5d53-48f6-af38-65ce3f3c5c86"
      },
      "source": [
        "g = nx.DiGraph()\n",
        "\n",
        "node_attributes = {\n",
        "    'Race': (2, 2), \n",
        "    'Sex': (2, 1), \n",
        "    'LSAT': (3, 2.5), \n",
        "    'GPA': (3, 1.5),\n",
        "    'FYA': (3, .5),\n",
        "    'Knowledge': (4, 1.5)\n",
        "} \n",
        "\n",
        "g.add_nodes_from(node_attributes.keys())\n",
        "\n",
        "\n",
        "g.add_edges_from([\n",
        "    ('Race', 'GPA'), ('Race', 'LSAT'), ('Race', 'FYA'),\n",
        "    ('Sex', 'GPA'), ('Sex', 'LSAT'), ('Sex', 'FYA'),\n",
        "    ('Knowledge', 'GPA'), ('Knowledge', 'LSAT'), ('Knowledge', 'FYA'),\n",
        "])\n",
        "\n",
        "color_map = []\n",
        "for node in g:\n",
        "  if node in ['Race','Sex']:\n",
        "    color_map.append('red')\n",
        "  elif node == 'Knowledge':\n",
        "    color_map.append('green')\n",
        "  elif node == 'FYA':\n",
        "    color_map.append('yellow')\n",
        "  else:\n",
        "    color_map.append('grey')\n",
        "\n",
        "nx.draw(g, node_attributes, with_labels=True, node_size=5000, node_color=color_map)"
      ],
      "execution_count": 79,
      "outputs": [
        {
          "output_type": "display_data",
          "data": {
            "image/png": "[encoded data removed]",
            "text/plain": [
              "<Figure size 432x288 with 1 Axes>"
            ]
          },
          "metadata": {}
        }
      ]
    },
    {
      "cell_type": "markdown",
      "metadata": {
        "id": "JuQfILS8tXpH"
      },
      "source": [
        "**2. Specify model parameters**\n"
      ]
    },
    {
      "cell_type": "markdown",
      "metadata": {
        "id": "_tbRuRFLt7vC"
      },
      "source": [
        "$GPA ∼ N(...)$ <br>\n",
        "$LSAT ∼ Poisson(...)$ <br>\n",
        "$FYA ∼ N(...)$ <br><br>\n",
        "$Knowledge ∼ N(...)$ <br>\n"
      ]
    },
    {
      "cell_type": "code",
      "metadata": {
        "id": "W79lyRfovU9r"
      },
      "source": [
        "import numpy as np\n",
        "import pandas as pd\n",
        "\n",
        "import statsmodels.api as sm\n",
        "import statsmodels.formula.api as smf\n",
        "\n",
        "# TODO: generate the model"
      ],
      "execution_count": 80,
      "outputs": []
    },
    {
      "cell_type": "markdown",
      "metadata": {
        "id": "sq-s4JnmtcqI"
      },
      "source": [
        "**3. Define and implement fairness metrics**"
      ]
    },
    {
      "cell_type": "markdown",
      "metadata": {
        "id": "mjJEirDHvOfP"
      },
      "source": [
        "1. Accuracy\n",
        "2. Counterfactual fairness"
      ]
    },
    {
      "cell_type": "code",
      "metadata": {
        "id": "Z9ZNd3BGvSu-"
      },
      "source": [
        "# TODO: build metrics"
      ],
      "execution_count": 81,
      "outputs": []
    },
    {
      "cell_type": "markdown",
      "metadata": {
        "id": "KRSf9mefthc7"
      },
      "source": [
        "**4. Compare fairness across *full* and *unaware* models**"
      ]
    },
    {
      "cell_type": "code",
      "metadata": {
        "id": "iwZldZaRvXh8"
      },
      "source": [
        "# TODO: implement both models, assess fairness (both metrics) for each"
      ],
      "execution_count": 82,
      "outputs": []
    },
    {
      "cell_type": "code",
      "metadata": {
        "id": "UVeUzEnqwnH4"
      },
      "source": [
        ""
      ],
      "execution_count": null,
      "outputs": []
    }
  ]
}