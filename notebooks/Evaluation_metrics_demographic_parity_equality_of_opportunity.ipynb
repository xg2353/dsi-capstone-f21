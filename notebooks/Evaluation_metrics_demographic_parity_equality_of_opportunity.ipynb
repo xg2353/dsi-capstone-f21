{
  "nbformat": 4,
  "nbformat_minor": 0,
  "metadata": {
    "colab": {
      "name": "Evaluation metrics: demographic parity equality of opportunity.ipynb",
      "provenance": []
    },
    "kernelspec": {
      "name": "python3",
      "display_name": "Python 3"
    },
    "language_info": {
      "name": "python"
    }
  },
  "cells": [
    {
      "cell_type": "markdown",
      "metadata": {
        "id": "Vr5vvIcTFnM9"
      },
      "source": [
        "# Notebook Outline\n",
        "\n",
        "The purpose of this notebook is to implement \"fairness\" evaluation metrics. These ccan be used to evaluate prediction fairness with respect to a sensitive feature.<br><br>\n",
        "\n",
        "### This notebook includes the following sections:\n",
        "1. **Data Ingestion:** Ingest and prepare law-school prediction results from the following models:\n",
        "  1. Full\n",
        "  2. Unaware\n",
        "  3. Counterfactually fair\n",
        "  4. Individually fair <br><br>\n",
        "2. **Metric Implementation:** \n",
        "  1. Demographic parity\n",
        "  2. Equality of opportunity<br><br>\n",
        "3. **Model Evaluation:** Evaluate predictions using ETT\n",
        "\n",
        "** Note: Sections 1 and 3 should be re-used in other pipelines"
      ]
    },
    {
      "cell_type": "markdown",
      "metadata": {
        "id": "r5ViRNjdHA_S"
      },
      "source": [
        "## Section 1: Data Ingestion"
      ]
    },
    {
      "cell_type": "code",
      "metadata": {
        "id": "f10VcxEY_KCI"
      },
      "source": [
        "# Import libraries\n",
        "\n",
        "import pandas as pd\n",
        "import numpy as np\n",
        "\n",
        "import warnings\n",
        "warnings.filterwarnings('ignore')"
      ],
      "execution_count": 7,
      "outputs": []
    },
    {
      "cell_type": "code",
      "metadata": {
        "id": "k3vHhboKCFGb"
      },
      "source": [
        "# Connect to Google Drive (to download raw data, upload clean data)\n",
        "\n",
        "!pip install -U -q PyDrive\n",
        "from pydrive.auth import GoogleAuth\n",
        "from pydrive.drive import GoogleDrive\n",
        "from google.colab import auth\n",
        "from oauth2client.client import GoogleCredentials\n",
        "\n",
        "# Authenticate and create the PyDrive client.\n",
        "\n",
        "auth.authenticate_user()\n",
        "gauth = GoogleAuth()\n",
        "gauth.credentials = GoogleCredentials.get_application_default()\n",
        "drive = GoogleDrive(gauth)"
      ],
      "execution_count": 2,
      "outputs": []
    },
    {
      "cell_type": "code",
      "metadata": {
        "colab": {
          "base_uri": "https://localhost:8080/"
        },
        "id": "pZ0Bc5EtCHak",
        "outputId": "8633d63e-6591-486c-8fd9-d03ef0ee72d3"
      },
      "source": [
        "# Download Law School datasets (these are already augmented with Lily's predictions!):\n",
        "\n",
        "csv_files = {\n",
        "  'law_school_train': '1eNiQgZUyxL7Fu5zN80EYrdqja8xesKd1',\n",
        "  'law_school_test': '1g8NNc3OPwLnqskkNkz8EocvDiC-z_sWw',\n",
        "  'law_school_counterfactual': '1LZ8Pqfh86X8FXSOvojpcW3kvEey3HAAq',\n",
        "}\n",
        "\n",
        "dfs = {}\n",
        "\n",
        "for key, value in csv_files.items():\n",
        "  csv_name = key + '.csv'\n",
        "  downloaded = drive.CreateFile({'id': value})\n",
        "  downloaded.GetContentFile(csv_name)\n",
        "  dfs[key] = pd.read_csv(csv_name, low_memory=False, index_col=0) # Re-use the original index \n",
        "  print(\"Saved: \", key, \"\\n\")\n",
        "\n",
        "ls_train = dfs['law_school_train']\n",
        "ls_test = dfs['law_school_test']\n",
        "ls_cf = dfs['law_school_counterfactual']"
      ],
      "execution_count": 3,
      "outputs": [
        {
          "output_type": "stream",
          "name": "stdout",
          "text": [
            "Saved:  law_school_train \n",
            "\n",
            "Saved:  law_school_test \n",
            "\n",
            "Saved:  law_school_counterfactual \n",
            "\n"
          ]
        }
      ]
    },
    {
      "cell_type": "code",
      "metadata": {
        "colab": {
          "base_uri": "https://localhost:8080/",
          "height": 439
        },
        "id": "R7j9XJYMCzxV",
        "outputId": "9e549d48-20c3-463b-f129-521baa4a25a0"
      },
      "source": [
        "ls_train"
      ],
      "execution_count": 4,
      "outputs": [
        {
          "output_type": "execute_result",
          "data": {
            "text/html": [
              "<div>\n",
              "<style scoped>\n",
              "    .dataframe tbody tr th:only-of-type {\n",
              "        vertical-align: middle;\n",
              "    }\n",
              "\n",
              "    .dataframe tbody tr th {\n",
              "        vertical-align: top;\n",
              "    }\n",
              "\n",
              "    .dataframe thead th {\n",
              "        text-align: right;\n",
              "    }\n",
              "</style>\n",
              "<table border=\"1\" class=\"dataframe\">\n",
              "  <thead>\n",
              "    <tr style=\"text-align: right;\">\n",
              "      <th></th>\n",
              "      <th>LSAT</th>\n",
              "      <th>UGPA</th>\n",
              "      <th>region_first</th>\n",
              "      <th>sander_index</th>\n",
              "      <th>first_pf</th>\n",
              "      <th>Amerindian</th>\n",
              "      <th>Asian</th>\n",
              "      <th>Black</th>\n",
              "      <th>Hispanic</th>\n",
              "      <th>Mexican</th>\n",
              "      <th>Other</th>\n",
              "      <th>Puertorican</th>\n",
              "      <th>White</th>\n",
              "      <th>female</th>\n",
              "      <th>male</th>\n",
              "      <th>ZFYA</th>\n",
              "      <th>Knowledge</th>\n",
              "      <th>Init_class</th>\n",
              "      <th>Fair_pred</th>\n",
              "      <th>Fair_pred_class</th>\n",
              "      <th>full_pred</th>\n",
              "      <th>full_pred_class</th>\n",
              "      <th>unaware_pred</th>\n",
              "      <th>unaware_pred_class</th>\n",
              "    </tr>\n",
              "  </thead>\n",
              "  <tbody>\n",
              "    <tr>\n",
              "      <th>9543</th>\n",
              "      <td>31</td>\n",
              "      <td>3.4</td>\n",
              "      <td>GL</td>\n",
              "      <td>0.711310</td>\n",
              "      <td>1.0</td>\n",
              "      <td>0</td>\n",
              "      <td>0</td>\n",
              "      <td>0</td>\n",
              "      <td>0</td>\n",
              "      <td>0</td>\n",
              "      <td>0</td>\n",
              "      <td>0</td>\n",
              "      <td>1</td>\n",
              "      <td>0</td>\n",
              "      <td>1</td>\n",
              "      <td>-1.45</td>\n",
              "      <td>0.055840</td>\n",
              "      <td>-1.0</td>\n",
              "      <td>0.087859</td>\n",
              "      <td>1.0</td>\n",
              "      <td>0.053080</td>\n",
              "      <td>1.0</td>\n",
              "      <td>-0.100215</td>\n",
              "      <td>-1.0</td>\n",
              "    </tr>\n",
              "    <tr>\n",
              "      <th>11945</th>\n",
              "      <td>36</td>\n",
              "      <td>3.1</td>\n",
              "      <td>GL</td>\n",
              "      <td>0.745238</td>\n",
              "      <td>1.0</td>\n",
              "      <td>0</td>\n",
              "      <td>0</td>\n",
              "      <td>0</td>\n",
              "      <td>0</td>\n",
              "      <td>0</td>\n",
              "      <td>0</td>\n",
              "      <td>0</td>\n",
              "      <td>1</td>\n",
              "      <td>0</td>\n",
              "      <td>1</td>\n",
              "      <td>-0.01</td>\n",
              "      <td>0.263451</td>\n",
              "      <td>-1.0</td>\n",
              "      <td>0.047502</td>\n",
              "      <td>1.0</td>\n",
              "      <td>0.142441</td>\n",
              "      <td>1.0</td>\n",
              "      <td>0.031020</td>\n",
              "      <td>1.0</td>\n",
              "    </tr>\n",
              "    <tr>\n",
              "      <th>19551</th>\n",
              "      <td>36</td>\n",
              "      <td>3.5</td>\n",
              "      <td>GL</td>\n",
              "      <td>0.783333</td>\n",
              "      <td>1.0</td>\n",
              "      <td>0</td>\n",
              "      <td>0</td>\n",
              "      <td>0</td>\n",
              "      <td>0</td>\n",
              "      <td>0</td>\n",
              "      <td>0</td>\n",
              "      <td>0</td>\n",
              "      <td>1</td>\n",
              "      <td>1</td>\n",
              "      <td>0</td>\n",
              "      <td>-0.31</td>\n",
              "      <td>-0.090122</td>\n",
              "      <td>-1.0</td>\n",
              "      <td>0.116232</td>\n",
              "      <td>1.0</td>\n",
              "      <td>0.204204</td>\n",
              "      <td>1.0</td>\n",
              "      <td>0.144656</td>\n",
              "      <td>1.0</td>\n",
              "    </tr>\n",
              "    <tr>\n",
              "      <th>17378</th>\n",
              "      <td>29</td>\n",
              "      <td>3.1</td>\n",
              "      <td>SC</td>\n",
              "      <td>0.657738</td>\n",
              "      <td>1.0</td>\n",
              "      <td>0</td>\n",
              "      <td>0</td>\n",
              "      <td>0</td>\n",
              "      <td>0</td>\n",
              "      <td>0</td>\n",
              "      <td>0</td>\n",
              "      <td>0</td>\n",
              "      <td>1</td>\n",
              "      <td>1</td>\n",
              "      <td>0</td>\n",
              "      <td>-0.40</td>\n",
              "      <td>0.949375</td>\n",
              "      <td>-1.0</td>\n",
              "      <td>-0.085834</td>\n",
              "      <td>-1.0</td>\n",
              "      <td>-0.106896</td>\n",
              "      <td>-1.0</td>\n",
              "      <td>-0.272026</td>\n",
              "      <td>-1.0</td>\n",
              "    </tr>\n",
              "    <tr>\n",
              "      <th>17283</th>\n",
              "      <td>23</td>\n",
              "      <td>2.3</td>\n",
              "      <td>Mt</td>\n",
              "      <td>0.512798</td>\n",
              "      <td>1.0</td>\n",
              "      <td>0</td>\n",
              "      <td>0</td>\n",
              "      <td>0</td>\n",
              "      <td>0</td>\n",
              "      <td>1</td>\n",
              "      <td>0</td>\n",
              "      <td>0</td>\n",
              "      <td>0</td>\n",
              "      <td>0</td>\n",
              "      <td>1</td>\n",
              "      <td>-1.38</td>\n",
              "      <td>1.603534</td>\n",
              "      <td>-1.0</td>\n",
              "      <td>-0.212994</td>\n",
              "      <td>-1.0</td>\n",
              "      <td>-0.964055</td>\n",
              "      <td>-1.0</td>\n",
              "      <td>-0.759050</td>\n",
              "      <td>-1.0</td>\n",
              "    </tr>\n",
              "    <tr>\n",
              "      <th>...</th>\n",
              "      <td>...</td>\n",
              "      <td>...</td>\n",
              "      <td>...</td>\n",
              "      <td>...</td>\n",
              "      <td>...</td>\n",
              "      <td>...</td>\n",
              "      <td>...</td>\n",
              "      <td>...</td>\n",
              "      <td>...</td>\n",
              "      <td>...</td>\n",
              "      <td>...</td>\n",
              "      <td>...</td>\n",
              "      <td>...</td>\n",
              "      <td>...</td>\n",
              "      <td>...</td>\n",
              "      <td>...</td>\n",
              "      <td>...</td>\n",
              "      <td>...</td>\n",
              "      <td>...</td>\n",
              "      <td>...</td>\n",
              "      <td>...</td>\n",
              "      <td>...</td>\n",
              "      <td>...</td>\n",
              "      <td>...</td>\n",
              "    </tr>\n",
              "    <tr>\n",
              "      <th>11964</th>\n",
              "      <td>33</td>\n",
              "      <td>3.1</td>\n",
              "      <td>GL</td>\n",
              "      <td>0.707738</td>\n",
              "      <td>0.0</td>\n",
              "      <td>0</td>\n",
              "      <td>0</td>\n",
              "      <td>0</td>\n",
              "      <td>0</td>\n",
              "      <td>0</td>\n",
              "      <td>0</td>\n",
              "      <td>0</td>\n",
              "      <td>1</td>\n",
              "      <td>1</td>\n",
              "      <td>0</td>\n",
              "      <td>-0.51</td>\n",
              "      <td>0.604640</td>\n",
              "      <td>-1.0</td>\n",
              "      <td>-0.018821</td>\n",
              "      <td>-1.0</td>\n",
              "      <td>0.019030</td>\n",
              "      <td>1.0</td>\n",
              "      <td>-0.098857</td>\n",
              "      <td>-1.0</td>\n",
              "    </tr>\n",
              "    <tr>\n",
              "      <th>21576</th>\n",
              "      <td>38</td>\n",
              "      <td>2.7</td>\n",
              "      <td>FW</td>\n",
              "      <td>0.732143</td>\n",
              "      <td>1.0</td>\n",
              "      <td>0</td>\n",
              "      <td>0</td>\n",
              "      <td>0</td>\n",
              "      <td>1</td>\n",
              "      <td>0</td>\n",
              "      <td>0</td>\n",
              "      <td>0</td>\n",
              "      <td>0</td>\n",
              "      <td>0</td>\n",
              "      <td>1</td>\n",
              "      <td>-1.21</td>\n",
              "      <td>0.700493</td>\n",
              "      <td>-1.0</td>\n",
              "      <td>-0.037454</td>\n",
              "      <td>-1.0</td>\n",
              "      <td>-0.270339</td>\n",
              "      <td>-1.0</td>\n",
              "      <td>0.003969</td>\n",
              "      <td>1.0</td>\n",
              "    </tr>\n",
              "    <tr>\n",
              "      <th>5390</th>\n",
              "      <td>47</td>\n",
              "      <td>3.8</td>\n",
              "      <td>SC</td>\n",
              "      <td>0.949405</td>\n",
              "      <td>1.0</td>\n",
              "      <td>0</td>\n",
              "      <td>0</td>\n",
              "      <td>0</td>\n",
              "      <td>0</td>\n",
              "      <td>0</td>\n",
              "      <td>0</td>\n",
              "      <td>0</td>\n",
              "      <td>1</td>\n",
              "      <td>0</td>\n",
              "      <td>1</td>\n",
              "      <td>1.27</td>\n",
              "      <td>-1.166616</td>\n",
              "      <td>1.0</td>\n",
              "      <td>0.325489</td>\n",
              "      <td>1.0</td>\n",
              "      <td>0.647515</td>\n",
              "      <td>1.0</td>\n",
              "      <td>0.706097</td>\n",
              "      <td>1.0</td>\n",
              "    </tr>\n",
              "    <tr>\n",
              "      <th>860</th>\n",
              "      <td>37</td>\n",
              "      <td>2.6</td>\n",
              "      <td>GL</td>\n",
              "      <td>0.710119</td>\n",
              "      <td>1.0</td>\n",
              "      <td>0</td>\n",
              "      <td>0</td>\n",
              "      <td>0</td>\n",
              "      <td>0</td>\n",
              "      <td>0</td>\n",
              "      <td>0</td>\n",
              "      <td>0</td>\n",
              "      <td>1</td>\n",
              "      <td>0</td>\n",
              "      <td>1</td>\n",
              "      <td>0.06</td>\n",
              "      <td>1.248656</td>\n",
              "      <td>1.0</td>\n",
              "      <td>-0.144010</td>\n",
              "      <td>-1.0</td>\n",
              "      <td>0.060511</td>\n",
              "      <td>1.0</td>\n",
              "      <td>-0.067732</td>\n",
              "      <td>-1.0</td>\n",
              "    </tr>\n",
              "    <tr>\n",
              "      <th>15795</th>\n",
              "      <td>36</td>\n",
              "      <td>3.4</td>\n",
              "      <td>SE</td>\n",
              "      <td>0.773810</td>\n",
              "      <td>1.0</td>\n",
              "      <td>0</td>\n",
              "      <td>0</td>\n",
              "      <td>0</td>\n",
              "      <td>0</td>\n",
              "      <td>0</td>\n",
              "      <td>0</td>\n",
              "      <td>0</td>\n",
              "      <td>1</td>\n",
              "      <td>0</td>\n",
              "      <td>1</td>\n",
              "      <td>0.71</td>\n",
              "      <td>-0.454202</td>\n",
              "      <td>1.0</td>\n",
              "      <td>0.187005</td>\n",
              "      <td>1.0</td>\n",
              "      <td>0.210488</td>\n",
              "      <td>1.0</td>\n",
              "      <td>0.116247</td>\n",
              "      <td>1.0</td>\n",
              "    </tr>\n",
              "  </tbody>\n",
              "</table>\n",
              "<p>17432 rows × 24 columns</p>\n",
              "</div>"
            ],
            "text/plain": [
              "       LSAT  UGPA  ... unaware_pred  unaware_pred_class\n",
              "9543     31   3.4  ...    -0.100215                -1.0\n",
              "11945    36   3.1  ...     0.031020                 1.0\n",
              "19551    36   3.5  ...     0.144656                 1.0\n",
              "17378    29   3.1  ...    -0.272026                -1.0\n",
              "17283    23   2.3  ...    -0.759050                -1.0\n",
              "...     ...   ...  ...          ...                 ...\n",
              "11964    33   3.1  ...    -0.098857                -1.0\n",
              "21576    38   2.7  ...     0.003969                 1.0\n",
              "5390     47   3.8  ...     0.706097                 1.0\n",
              "860      37   2.6  ...    -0.067732                -1.0\n",
              "15795    36   3.4  ...     0.116247                 1.0\n",
              "\n",
              "[17432 rows x 24 columns]"
            ]
          },
          "metadata": {},
          "execution_count": 4
        }
      ]
    },
    {
      "cell_type": "markdown",
      "metadata": {
        "id": "kT7DGab8HNCg"
      },
      "source": [
        "## Section 2: Metric Implementation"
      ]
    },
    {
      "cell_type": "code",
      "metadata": {
        "id": "9CjwwotMZybi"
      },
      "source": [
        "def neg_to_zero(val):\n",
        "    \"\"\"\n",
        "    Simple helper function to clean up input DF\n",
        "    \"\"\"\n",
        "    if val == -1.0:\n",
        "        return 0\n",
        "    else:\n",
        "        return val\n"
      ],
      "execution_count": 19,
      "outputs": []
    },
    {
      "cell_type": "markdown",
      "metadata": {
        "id": "qCmLk8K3dG04"
      },
      "source": [
        "### 1. Demographic Parity\n",
        "\n",
        "A predictor Y satisfies demographic parity if:\n",
        "\n",
        "$P(\\hat{Y}|A=0) = P(\\hat{Y}|A=1)$ ,\n",
        "\n",
        "where A is a sensitive attribute"
      ]
    },
    {
      "cell_type": "code",
      "metadata": {
        "id": "iDhY6SthEClj"
      },
      "source": [
        "def demographic_parity(df, label_col, prediction_col, sensitive_col, cols_to_condition_on=None):\n",
        "  \"\"\"\n",
        "  Inputs:\n",
        "  Output:\n",
        "  \"\"\"\n",
        "  if cols_to_condition_on:\n",
        "    cols_to_keep = [label_col, prediction_col, sensitive_col, cols_to_condition_on]\n",
        "  else:\n",
        "    cols_to_keep = [label_col, prediction_col, sensitive_col]\n",
        "\n",
        "  # Clean up dataframe\n",
        "  df = df[cols_to_keep]\n",
        "  df[label_col] = df[label_col].apply(neg_to_zero)\n",
        "  df[prediction_col] = df[prediction_col].apply(neg_to_zero)\n",
        "  \n",
        "  # Split by sensitive variable\n",
        "  non_sensitive = df[df[sensitive_col]==0]\n",
        "  p_yhat_non_sensitive = non_sensitive[prediction_col].sum() / non_sensitive[prediction_col].count()\n",
        "\n",
        "  sensitive = df[df[sensitive_col]!=0]\n",
        "  p_yhat_sensitive = sensitive[prediction_col].sum() / sensitive[prediction_col].count()\n",
        "\n",
        "  # Return final metric\n",
        "  probability_difference = abs(p_yhat_sensitive - p_yhat_non_sensitive)\n",
        "  \n",
        "  return probability_difference\n",
        "\n"
      ],
      "execution_count": 15,
      "outputs": []
    },
    {
      "cell_type": "markdown",
      "metadata": {
        "id": "fCYO76GHdaTc"
      },
      "source": [
        "### 2. Equality of opportunity\n",
        "\n",
        "A predictor Y satisfies equality of opportunity if:\n",
        "\n",
        "$P(\\hat{Y}=1 | A=0,Y=1) = P(\\hat{Y}=1 | A=1,Y=1)$ ,\n",
        "\n",
        "where A is a sensitive attribute"
      ]
    },
    {
      "cell_type": "code",
      "metadata": {
        "id": "evB7-U9JdF_S"
      },
      "source": [
        "def equality_of_opportunity(df, label_col, prediction_col, sensitive_col, cols_to_condition_on=None):\n",
        "  \"\"\"\n",
        "  Inputs:\n",
        "  Output:\n",
        "  \"\"\"\n",
        "  if cols_to_condition_on:\n",
        "    cols_to_keep = [label_col, prediction_col, sensitive_col, cols_to_condition_on]\n",
        "  else:\n",
        "    cols_to_keep = [label_col, prediction_col, sensitive_col]\n",
        "\n",
        "  # Clean up dataframe\n",
        "  df = df[cols_to_keep]\n",
        "  df[label_col] = df[label_col].apply(neg_to_zero)\n",
        "  df[prediction_col] = df[prediction_col].apply(neg_to_zero)\n",
        "  \n",
        "  # Condition on Y=1\n",
        "  df = df[df[label_col]==1.0]\n",
        "\n",
        "\n",
        "  # Split by sensitive variable\n",
        "  non_sensitive = df[df[sensitive_col]==0]\n",
        "  p_yhat_non_sensitive = non_sensitive[prediction_col].sum() / non_sensitive[prediction_col].count()\n",
        "\n",
        "  sensitive = df[df[sensitive_col]!=0]\n",
        "  p_yhat_sensitive = sensitive[prediction_col].sum() / sensitive[prediction_col].count()\n",
        "\n",
        "  # Return final metric\n",
        "  probability_difference = abs(p_yhat_sensitive - p_yhat_non_sensitive)\n",
        "  \n",
        "  return (probability_difference)\n"
      ],
      "execution_count": 13,
      "outputs": []
    },
    {
      "cell_type": "markdown",
      "metadata": {
        "id": "qKwbugtBHPMU"
      },
      "source": [
        "## Section 3: Model Evaluation"
      ]
    },
    {
      "cell_type": "code",
      "metadata": {
        "colab": {
          "base_uri": "https://localhost:8080/"
        },
        "id": "nmS9YBAOK-Vt",
        "outputId": "87f1041f-328b-469d-c0dc-3ffc2d3cb61e"
      },
      "source": [
        "# Evaluate it on a subset of your data\n",
        "\n",
        "full_demographic_parity = demographic_parity(df=ls_train, label_col='Init_class', prediction_col='full_pred_class', sensitive_col='female')\n",
        "unaware_demographic_parity = demographic_parity(df=ls_train, label_col='Init_class', prediction_col='unaware_pred_class', sensitive_col='female')\n",
        "fair_demographic_parity = demographic_parity(df=ls_train, label_col='Init_class', prediction_col='Fair_pred_class', sensitive_col='female')\n",
        "\n",
        "print(\"Full demographic parity: \", full_demographic_parity)\n",
        "print(\"Unaware demographic parity: \", unaware_demographic_parity)\n",
        "print(\"Fair demographic parity: \", fair_demographic_parity)\n",
        "\n",
        "print(\"\\nThe unaware model is most fair by this metric! The fair model is second.\")"
      ],
      "execution_count": 12,
      "outputs": [
        {
          "output_type": "stream",
          "name": "stdout",
          "text": [
            "Full demographic parity:  0.049410674173692604\n",
            "Unaware demographic parity:  0.0002825331126148356\n",
            "Fair demographic parity:  0.017464881509619\n",
            "\n",
            "The unaware model is most fair by this metric! The fair model is second.\n"
          ]
        }
      ]
    },
    {
      "cell_type": "code",
      "metadata": {
        "colab": {
          "base_uri": "https://localhost:8080/"
        },
        "id": "5mQyD7SpVh8N",
        "outputId": "076c3e02-d9e1-4c21-ab5c-6bc71da42bfd"
      },
      "source": [
        "full_eq_of_op = equality_of_opportunity(df=ls_train, label_col='Init_class', prediction_col='full_pred_class', sensitive_col='female')\n",
        "unaware_eq_of_op = equality_of_opportunity(df=ls_train, label_col='Init_class', prediction_col='unaware_pred_class', sensitive_col='female')\n",
        "fair_eq_of_op = equality_of_opportunity(df=ls_train, label_col='Init_class', prediction_col='Fair_pred_class', sensitive_col='female')\n",
        "\n",
        "print(\"Full equality of opportunity: \", full_eq_of_op)\n",
        "print(\"Unaware equality of opportunity: \", unaware_eq_of_op)\n",
        "print(\"Fair equality of opportunity: \", fair_eq_of_op)\n",
        "\n",
        "print(\"\\nThe full model is most fair by this metric! The fair model is second.\")"
      ],
      "execution_count": 18,
      "outputs": [
        {
          "output_type": "stream",
          "name": "stdout",
          "text": [
            "Full equality of opportunity:  0.00351609937829811\n",
            "Unaware equality of opportunity:  0.04163622167355685\n",
            "Fair equality of opportunity:  0.0335923377388434\n",
            "\n",
            "The full model is most fair by this metric! The fair model is second.\n"
          ]
        }
      ]
    },
    {
      "cell_type": "code",
      "metadata": {
        "id": "7aEE9DiUHQiN"
      },
      "source": [
        "yo = pd.DataFrame({\n",
        "    'model': ['Full','Unaware','Fair'],\n",
        "    'Demographic_Parity': [full_demographic_parity, unaware_demographic_parity, fair_demographic_parity],\n",
        "    'Equality_of_Opportunity': [full_eq_of_op, unaware_eq_of_op, fair_eq_of_op],\n",
        "    })#.set_index('model')"
      ],
      "execution_count": 28,
      "outputs": []
    },
    {
      "cell_type": "code",
      "metadata": {
        "colab": {
          "base_uri": "https://localhost:8080/",
          "height": 142
        },
        "id": "rjDgqh-ubiw2",
        "outputId": "63f5ba00-993f-4d1c-b464-95017ca62caa"
      },
      "source": [
        "yo"
      ],
      "execution_count": 29,
      "outputs": [
        {
          "output_type": "execute_result",
          "data": {
            "text/html": [
              "<div>\n",
              "<style scoped>\n",
              "    .dataframe tbody tr th:only-of-type {\n",
              "        vertical-align: middle;\n",
              "    }\n",
              "\n",
              "    .dataframe tbody tr th {\n",
              "        vertical-align: top;\n",
              "    }\n",
              "\n",
              "    .dataframe thead th {\n",
              "        text-align: right;\n",
              "    }\n",
              "</style>\n",
              "<table border=\"1\" class=\"dataframe\">\n",
              "  <thead>\n",
              "    <tr style=\"text-align: right;\">\n",
              "      <th></th>\n",
              "      <th>model</th>\n",
              "      <th>Demographic_Parity</th>\n",
              "      <th>Equality_of_Opportunity</th>\n",
              "    </tr>\n",
              "  </thead>\n",
              "  <tbody>\n",
              "    <tr>\n",
              "      <th>0</th>\n",
              "      <td>Full</td>\n",
              "      <td>0.049411</td>\n",
              "      <td>0.003516</td>\n",
              "    </tr>\n",
              "    <tr>\n",
              "      <th>1</th>\n",
              "      <td>Unaware</td>\n",
              "      <td>0.000283</td>\n",
              "      <td>0.041636</td>\n",
              "    </tr>\n",
              "    <tr>\n",
              "      <th>2</th>\n",
              "      <td>Fair</td>\n",
              "      <td>0.017465</td>\n",
              "      <td>0.033592</td>\n",
              "    </tr>\n",
              "  </tbody>\n",
              "</table>\n",
              "</div>"
            ],
            "text/plain": [
              "     model  Demographic_Parity  Equality_of_Opportunity\n",
              "0     Full            0.049411                 0.003516\n",
              "1  Unaware            0.000283                 0.041636\n",
              "2     Fair            0.017465                 0.033592"
            ]
          },
          "metadata": {},
          "execution_count": 29
        }
      ]
    },
    {
      "cell_type": "code",
      "metadata": {
        "id": "DqpsPHTcbjhO"
      },
      "source": [
        ""
      ],
      "execution_count": null,
      "outputs": []
    }
  ]
}