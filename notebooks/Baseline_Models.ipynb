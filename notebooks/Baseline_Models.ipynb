{
 "cells": [
  {
   "cell_type": "code",
   "execution_count": 1,
   "metadata": {
    "id": "EXKjWBK4b4hq"
   },
   "outputs": [],
   "source": [
    "import pandas as pd\n",
    "import numpy as np\n",
    "import os"
   ]
  },
  {
   "cell_type": "code",
   "execution_count": 31,
   "metadata": {
    "id": "FkSKwKiAcPxQ"
   },
   "outputs": [],
   "source": [
    "german_df = pd.read_csv('german.data', delimiter=' ', header=None)"
   ]
  },
  {
   "cell_type": "code",
   "execution_count": 32,
   "metadata": {
    "id": "Iy3b1LS-dp7w"
   },
   "outputs": [],
   "source": [
    "german_cols_renamer = {\n",
    "    0: \"ext_ckg_acct\",\n",
    "    1: \"month_duration\",\n",
    "    2: \"cr_hist\",\n",
    "    3: \"purpose\",\n",
    "    4: \"cr_amt\",\n",
    "    5: \"svg_acct\",\n",
    "    6: \"curr_empl_since\",\n",
    "    7: \"installment_rt\",\n",
    "    8: \"status_sex\",\n",
    "    9: \"debtors\",\n",
    "    10: \"curr_resid_since\",\n",
    "    11: \"property\",\n",
    "    12: \"age\",\n",
    "    13: \"other_installment\",\n",
    "    14: \"housing\",\n",
    "    15: \"ext_cr\",\n",
    "    16: \"job\",\n",
    "    17: \"num_liable_pp\",\n",
    "    18: \"telephone\",\n",
    "    19: \"foreign_worker\",\n",
    "    20: \"class\"\n",
    "}\n",
    "german_df.rename(columns = german_cols_renamer, inplace=True)"
   ]
  },
  {
   "cell_type": "markdown",
   "metadata": {
    "id": "HdZ1MXaezgOx"
   },
   "source": [
    "Full Model"
   ]
  },
  {
   "cell_type": "code",
   "execution_count": 33,
   "metadata": {
    "id": "e_bodl79dw1p"
   },
   "outputs": [],
   "source": [
    "from sklearn.preprocessing import OrdinalEncoder\n",
    "from sklearn.preprocessing import OneHotEncoder\n",
    "from sklearn.preprocessing import StandardScaler\n",
    "from sklearn.pipeline import make_pipeline\n",
    "from sklearn.compose import make_column_transformer"
   ]
  },
  {
   "cell_type": "code",
   "execution_count": 34,
   "metadata": {
    "id": "BdV_M3zWtxl1"
   },
   "outputs": [],
   "source": [
    "num_vars = ['month_duration', 'cr_amt', 'installment_rt', 'curr_resid_since','age', 'ext_cr', 'num_liable_pp']\n",
    "cat_onehot = ['cr_hist','purpose','status_sex','debtors', 'property','other_installment', 'housing', 'job','telephone','foreign_worker']\n",
    "cat_ord = ['ext_ckg_acct', 'svg_acct', 'curr_empl_since']"
   ]
  },
  {
   "cell_type": "code",
   "execution_count": 35,
   "metadata": {
    "id": "3aqvpvNqwHnp"
   },
   "outputs": [],
   "source": [
    "ord_ext_ckg_acct = OrdinalEncoder(categories = [['A11', 'A12', 'A13', 'A14']])\n",
    "ord_svg_acct = OrdinalEncoder(categories = [['A61', 'A62', 'A63', 'A64', 'A65']])\n",
    "ord_curr_empl_since = OrdinalEncoder(categories = [['A71', 'A72', 'A73', 'A74', 'A75']])"
   ]
  },
  {
   "cell_type": "code",
   "execution_count": 36,
   "metadata": {
    "colab": {
     "base_uri": "https://localhost:8080/"
    },
    "id": "orYnluKLxVrT",
    "outputId": "5b631389-ec0a-4273-c793-ad8875974879"
   },
   "outputs": [
    {
     "name": "stderr",
     "output_type": "stream",
     "text": [
      "<ipython-input-36-c0b978df6672>:5: SettingWithCopyWarning: \n",
      "A value is trying to be set on a copy of a slice from a DataFrame\n",
      "\n",
      "See the caveats in the documentation: https://pandas.pydata.org/pandas-docs/stable/user_guide/indexing.html#returning-a-view-versus-a-copy\n",
      "  y[y ==1] = 0\n",
      "<ipython-input-36-c0b978df6672>:6: SettingWithCopyWarning: \n",
      "A value is trying to be set on a copy of a slice from a DataFrame\n",
      "\n",
      "See the caveats in the documentation: https://pandas.pydata.org/pandas-docs/stable/user_guide/indexing.html#returning-a-view-versus-a-copy\n",
      "  y[y ==2] = 1\n"
     ]
    }
   ],
   "source": [
    "from sklearn.model_selection import train_test_split\n",
    "\n",
    "X_f = german_df[num_vars + cat_ord + cat_onehot]\n",
    "y = german_df['class']\n",
    "y[y ==1] = 0\n",
    "y[y ==2] = 1\n",
    "\n",
    "X_dev_f, X_test_f, y_dev_f, y_test_f = train_test_split(X_f, y, test_size = 0.2, random_state = 42)"
   ]
  },
  {
   "cell_type": "code",
   "execution_count": 37,
   "metadata": {
    "id": "BLvAaxj6w3d8"
   },
   "outputs": [],
   "source": [
    "preprocess = make_column_transformer(\n",
    "    (StandardScaler(), num_vars),\n",
    "    (OneHotEncoder(categories='auto'), cat_onehot),\n",
    "     (ord_ext_ckg_acct, ['ext_ckg_acct']),\n",
    "    (ord_svg_acct, ['svg_acct']),\n",
    "    (ord_curr_empl_since, ['curr_empl_since'])\n",
    ")"
   ]
  },
  {
   "cell_type": "code",
   "execution_count": 46,
   "metadata": {
    "colab": {
     "base_uri": "https://localhost:8080/",
     "height": 345
    },
    "id": "GEvjDrbXu1kh",
    "outputId": "00914478-ef51-4dcd-dc5a-25fef295a18a"
   },
   "outputs": [
    {
     "data": {
      "text/plain": [
       "0.77625"
      ]
     },
     "execution_count": 46,
     "metadata": {},
     "output_type": "execute_result"
    }
   ],
   "source": [
    "from sklearn.model_selection import cross_val_score\n",
    "from sklearn.linear_model import LogisticRegression\n",
    "pipe = make_pipeline(preprocess, LogisticRegression())\n",
    "#cross_val_score(pipe, X_dev_f, y_dev_f, cv = 5).mean()\n",
    "pipe.fit(X_dev_f, y_dev_f)\n",
    "pipe.score(X_dev_f, y_dev_f)"
   ]
  },
  {
   "cell_type": "code",
   "execution_count": 47,
   "metadata": {},
   "outputs": [
    {
     "data": {
      "text/plain": [
       "0.795"
      ]
     },
     "execution_count": 47,
     "metadata": {},
     "output_type": "execute_result"
    }
   ],
   "source": [
    "pipe.score(X_test_f, y_test_f)"
   ]
  },
  {
   "cell_type": "markdown",
   "metadata": {
    "id": "GozOiLOYzZ9p"
   },
   "source": [
    "Model with Unawareness - Gender, foreignworker"
   ]
  },
  {
   "cell_type": "code",
   "execution_count": 39,
   "metadata": {
    "id": "AY4cyFPvzJz-"
   },
   "outputs": [],
   "source": [
    "s_num_vars = ['month_duration', 'cr_amt', 'installment_rt', 'curr_resid_since','ext_cr', 'num_liable_pp']\n",
    "s_cat_onehot = ['cr_hist','purpose','status_sex','debtors', 'property','other_installment', 'housing', 'job','telephone']\n",
    "s_cat_ord = ['ext_ckg_acct', 'svg_acct', 'curr_empl_since']"
   ]
  },
  {
   "cell_type": "code",
   "execution_count": 40,
   "metadata": {
    "id": "b-VJ6Uj_zvQh"
   },
   "outputs": [],
   "source": [
    "_preprocess = make_column_transformer(\n",
    "    (StandardScaler(), s_num_vars),\n",
    "    (OneHotEncoder(), s_cat_onehot),\n",
    "    (ord_ext_ckg_acct, ['ext_ckg_acct']),\n",
    "    (ord_svg_acct, ['svg_acct']),\n",
    "    (ord_curr_empl_since, ['curr_empl_since'])\n",
    ")"
   ]
  },
  {
   "cell_type": "code",
   "execution_count": 41,
   "metadata": {
    "id": "WJRRrP_Nz9fp"
   },
   "outputs": [],
   "source": [
    "X_s = german_df[s_num_vars + s_cat_ord + s_cat_onehot]\n",
    "\n",
    "_X_dev, _X_test, _y_dev, _y_test = train_test_split(X_s, y, test_size = 0.2, random_state = 42)"
   ]
  },
  {
   "cell_type": "code",
   "execution_count": 44,
   "metadata": {
    "id": "-ETgftx80KFY"
   },
   "outputs": [
    {
     "data": {
      "text/plain": [
       "0.78"
      ]
     },
     "execution_count": 44,
     "metadata": {},
     "output_type": "execute_result"
    }
   ],
   "source": [
    "_pipe = make_pipeline(_preprocess, LogisticRegression())\n",
    "#cross_val_score(_pipe, _X_dev, _y_dev, cv = 5).mean()\n",
    "_pipe.fit(_X_dev, _y_dev)\n",
    "_pipe.score(_X_dev, _y_dev)"
   ]
  },
  {
   "cell_type": "code",
   "execution_count": 45,
   "metadata": {},
   "outputs": [
    {
     "data": {
      "text/plain": [
       "0.78"
      ]
     },
     "execution_count": 45,
     "metadata": {},
     "output_type": "execute_result"
    }
   ],
   "source": [
    "_pipe.score(_X_test, _y_test)"
   ]
  },
  {
   "cell_type": "code",
   "execution_count": 56,
   "metadata": {},
   "outputs": [],
   "source": [
    "result = pd.DataFrame({\n",
    "    'sex': np.array(X_dev_f['status_sex']),\n",
    "    'foreign_worker': np.array(X_dev_f['foreign_worker']),\n",
    "    'actual': y_dev_f,\n",
    "    'full_model': pipe.predict(X_dev_f),\n",
    "    'unaware_model': _pipe.predict(_X_dev)\n",
    "})"
   ]
  },
  {
   "cell_type": "code",
   "execution_count": 62,
   "metadata": {},
   "outputs": [
    {
     "data": {
      "image/png": "[encoded data removed]",
      "text/plain": [
       "<Figure size 1296x360 with 3 Axes>"
      ]
     },
     "metadata": {
      "needs_background": "light"
     },
     "output_type": "display_data"
    }
   ],
   "source": [
    "import seaborn as sns\n",
    "import matplotlib.pyplot as plt\n",
    "\n",
    "plt.figure(figsize =(18, 5))\n",
    "plt.subplot(1,3,1)\n",
    "sns.barplot(x = 'sex', y = 'actual', data = result)\n",
    "plt.title('Actual')\n",
    "\n",
    "plt.subplot(1,3,2)\n",
    "sns.barplot(x = 'sex', y = 'full_model', data = result)\n",
    "plt.title('Full')\n",
    "\n",
    "plt.subplot(1,3,3)\n",
    "sns.barplot(x = 'sex', y = 'unaware_model', data = result)\n",
    "plt.title('Unaware')\n",
    "\n",
    "plt.show()"
   ]
  },
  {
   "cell_type": "code",
   "execution_count": 63,
   "metadata": {},
   "outputs": [
    {
     "data": {
      "image/png": "[encoded data removed]",
      "text/plain": [
       "<Figure size 1296x360 with 3 Axes>"
      ]
     },
     "metadata": {
      "needs_background": "light"
     },
     "output_type": "display_data"
    }
   ],
   "source": [
    "plt.figure(figsize =(18, 5))\n",
    "plt.subplot(1,3,1)\n",
    "sns.barplot(x = 'foreign_worker', y = 'actual', data = result)\n",
    "plt.title('Actual')\n",
    "\n",
    "plt.subplot(1,3,2)\n",
    "sns.barplot(x = 'foreign_worker', y = 'full_model', data = result)\n",
    "plt.title('Full')\n",
    "\n",
    "plt.subplot(1,3,3)\n",
    "sns.barplot(x = 'foreign_worker', y = 'unaware_model', data = result)\n",
    "plt.title('Unaware')\n",
    "\n",
    "plt.show()"
   ]
  },
  {
   "cell_type": "code",
   "execution_count": 65,
   "metadata": {},
   "outputs": [],
   "source": [
    "result_test = pd.DataFrame({\n",
    "    'sex': np.array(X_test_f['status_sex']),\n",
    "    'foreign_worker': np.array(X_test_f['foreign_worker']),\n",
    "    'actual': y_test_f,\n",
    "    'full_model': pipe.predict(X_test_f),\n",
    "    'unaware_model': _pipe.predict(_X_test)\n",
    "})"
   ]
  },
  {
   "cell_type": "code",
   "execution_count": 66,
   "metadata": {},
   "outputs": [
    {
     "data": {
      "image/png": "[encoded data removed]",
      "text/plain": [
       "<Figure size 1296x360 with 3 Axes>"
      ]
     },
     "metadata": {
      "needs_background": "light"
     },
     "output_type": "display_data"
    }
   ],
   "source": [
    "plt.figure(figsize =(18, 5))\n",
    "plt.subplot(1,3,1)\n",
    "sns.barplot(x = 'sex', y = 'actual', data = result_test)\n",
    "plt.title('Actual')\n",
    "\n",
    "plt.subplot(1,3,2)\n",
    "sns.barplot(x = 'sex', y = 'full_model', data = result_test)\n",
    "plt.title('Full')\n",
    "\n",
    "plt.subplot(1,3,3)\n",
    "sns.barplot(x = 'sex', y = 'unaware_model', data = result_test)\n",
    "plt.title('Unaware')\n",
    "\n",
    "plt.show()"
   ]
  },
  {
   "cell_type": "code",
   "execution_count": 67,
   "metadata": {},
   "outputs": [
    {
     "data": {
      "image/png": "[encoded data removed]",
      "text/plain": [
       "<Figure size 1296x360 with 3 Axes>"
      ]
     },
     "metadata": {
      "needs_background": "light"
     },
     "output_type": "display_data"
    }
   ],
   "source": [
    "plt.figure(figsize =(18, 5))\n",
    "plt.subplot(1,3,1)\n",
    "sns.barplot(x = 'foreign_worker', y = 'actual', data = result_test)\n",
    "plt.title('Actual')\n",
    "\n",
    "plt.subplot(1,3,2)\n",
    "sns.barplot(x = 'foreign_worker', y = 'full_model', data = result_test)\n",
    "plt.title('Full')\n",
    "\n",
    "plt.subplot(1,3,3)\n",
    "sns.barplot(x = 'foreign_worker', y = 'unaware_model', data = result_test)\n",
    "plt.title('Unaware')\n",
    "\n",
    "plt.show()"
   ]
  },
  {
   "cell_type": "code",
   "execution_count": null,
   "metadata": {},
   "outputs": [],
   "source": []
  }
 ],
 "metadata": {
  "colab": {
   "collapsed_sections": [],
   "name": "Baseline Models.ipynb",
   "provenance": []
  },
  "kernelspec": {
   "display_name": "Python 3",
   "language": "python",
   "name": "python3"
  },
  "language_info": {
   "codemirror_mode": {
    "name": "ipython",
    "version": 3
   },
   "file_extension": ".py",
   "mimetype": "text/x-python",
   "name": "python",
   "nbconvert_exporter": "python",
   "pygments_lexer": "ipython3",
   "version": "3.8.8"
  }
 },
 "nbformat": 4,
 "nbformat_minor": 1
}
